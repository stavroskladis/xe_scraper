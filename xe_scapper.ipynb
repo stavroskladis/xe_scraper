{
 "cells": [
  {
   "cell_type": "code",
   "execution_count": 822,
   "id": "c9235d65",
   "metadata": {},
   "outputs": [],
   "source": [
    "import re\n",
    "import smtplib\n",
    "from datetime import datetime\n",
    "import requests\n",
    "from bs4 import BeautifulSoup as bs\n",
    "import os"
   ]
  },
  {
   "cell_type": "code",
   "execution_count": 823,
   "id": "9e4db74a",
   "metadata": {},
   "outputs": [],
   "source": [
    "# Get unique values\n",
    "def unique(xlist):\n",
    "    unique_list = []\n",
    "    \n",
    "    for x in xlist:\n",
    "        if x not in unique_list:\n",
    "            unique_list.append(x)\n",
    "    \n",
    "    return unique_list"
   ]
  },
  {
   "cell_type": "code",
   "execution_count": 824,
   "id": "abc72286",
   "metadata": {},
   "outputs": [],
   "source": [
    "def search(list, keyword):\n",
    "    for i in range(len(list)):\n",
    "        if list[i] == keyword:\n",
    "            return True\n",
    "    return False"
   ]
  },
  {
   "cell_type": "code",
   "execution_count": 825,
   "id": "ee09b675",
   "metadata": {},
   "outputs": [],
   "source": [
    "query_url = \"https://www.xe.gr/property/results?transaction_name=rent&item_type=re_residence&maximum_price=960&minimum_size=57&geo_lat_from=38.0999672763109&geo_lng_from=24.061083822481493&geo_lat_to=37.792875685371634&geo_lng_to=23.530055641375128&sorting=update_desc\"\n",
    "crafted_urls = []\n",
    "uniq_urls = []\n",
    "start_page = 0  # Should be 1 at minimum\n",
    "max_page_num = 3  # upper limit for the web page number to scrapp\n",
    "links = []\n",
    "\n",
    "for i in range(start_page, max_page_num):\n",
    "    crafted_urls.append( query_url + \"&page=\" + str(i+1) )\n",
    "    soup = bs(requests.get(crafted_urls[i]).content, 'lxml')\n",
    "    \n",
    "    for a_tag in soup.select('a[href*=\"enoikiaseis-katoikion\"]'):\n",
    "        links.append(a_tag['href'])\n",
    "        \n",
    "    links = links[:-15]\n"
   ]
  },
  {
   "cell_type": "code",
   "execution_count": 826,
   "id": "626cf616",
   "metadata": {},
   "outputs": [
    {
     "data": {
      "text/plain": [
       "204"
      ]
     },
     "execution_count": 826,
     "metadata": {},
     "output_type": "execute_result"
    }
   ],
   "source": [
    "len(links)"
   ]
  },
  {
   "cell_type": "code",
   "execution_count": 827,
   "id": "4f5828e8",
   "metadata": {},
   "outputs": [],
   "source": [
    "uniq_urls = unique(links)"
   ]
  },
  {
   "cell_type": "code",
   "execution_count": 828,
   "id": "435e3248",
   "metadata": {},
   "outputs": [
    {
     "data": {
      "text/plain": [
       "102"
      ]
     },
     "execution_count": 828,
     "metadata": {},
     "output_type": "execute_result"
    }
   ],
   "source": [
    "len(uniq_urls)"
   ]
  },
  {
   "cell_type": "code",
   "execution_count": 829,
   "id": "a8a097c0",
   "metadata": {},
   "outputs": [],
   "source": [
    "blacklist_areas = [\n",
    "    \"nosokomeio-paidwn\", \n",
    "    \"athhna-plateia-amerikhs\",\n",
    "    \"vyrwnas\",\n",
    "    \"zwgrafoy-kentro\",\n",
    "    \"nosokomeio-paidwn\",\n",
    "    \"athhna-koyntoyriwtika\",\n",
    "    \"athhna-kynosargoys\",\n",
    "    \"galatsi\",\n",
    "    \"porto-rafth\",\n",
    "    \"pagkrati\",\n",
    "    \"ippokratoys\",\n",
    "    \"ilion\",\n",
    "    \"liosia\",\n",
    "    \"keratsini\"\n",
    "    ]"
   ]
  },
  {
   "cell_type": "code",
   "execution_count": 830,
   "id": "2ca1270e",
   "metadata": {},
   "outputs": [
    {
     "data": {
      "text/plain": [
       "['nosokomeio-paidwn',\n",
       " 'athhna-plateia-amerikhs',\n",
       " 'vyrwnas',\n",
       " 'zwgrafoy-kentro',\n",
       " 'athhna-koyntoyriwtika',\n",
       " 'athhna-kynosargoys',\n",
       " 'galatsi',\n",
       " 'porto-rafth',\n",
       " 'pagkrati',\n",
       " 'ippokratoys',\n",
       " 'ilion',\n",
       " 'liosia',\n",
       " 'keratsini']"
      ]
     },
     "execution_count": 830,
     "metadata": {},
     "output_type": "execute_result"
    }
   ],
   "source": [
    "blacklist_areas = unique(blacklist_areas)\n",
    "blacklist_areas"
   ]
  },
  {
   "cell_type": "code",
   "execution_count": 831,
   "id": "3d4cad05",
   "metadata": {},
   "outputs": [],
   "source": [
    "def filter_blacklisted_areas(urls, blacklist_areas):\n",
    "    # Filters based on blacklisted areas\n",
    "        \n",
    "    for url in urls:\n",
    "        for area in blacklist_areas:\n",
    "            if area in url:\n",
    "                urls.remove(url)\n",
    "                break # if blacklisted break the loop\n",
    "    return urls"
   ]
  },
  {
   "cell_type": "code",
   "execution_count": 794,
   "id": "f63467ea",
   "metadata": {},
   "outputs": [],
   "source": [
    "cleaned_urls= filter_blacklisted_areas(uniq_urls, blacklist_areas)"
   ]
  },
  {
   "cell_type": "code",
   "execution_count": 832,
   "id": "e8b135d6",
   "metadata": {},
   "outputs": [
    {
     "name": "stdout",
     "output_type": "stream",
     "text": [
      "95\n"
     ]
    }
   ],
   "source": [
    "print(len(cleaned_urls))"
   ]
  },
  {
   "cell_type": "code",
   "execution_count": 833,
   "id": "d1e38532",
   "metadata": {},
   "outputs": [],
   "source": [
    "class Home:\n",
    "    def __init__(self, property_url):\n",
    "        self.property_url = property_url\n",
    "        \n",
    "    def set_property_id(self):\n",
    "        self.property_id = self.property_url.split('/')[6]"
   ]
  },
  {
   "cell_type": "code",
   "execution_count": 834,
   "id": "0331d996",
   "metadata": {},
   "outputs": [],
   "source": [
    "def make_homes(urls):\n",
    "    Homes = []\n",
    "\n",
    "    for i in range(0, len(urls)):\n",
    "        Homes.append(Home(urls[i]))\n",
    "        Homes[i].set_property_id()\n",
    "    \n",
    "    return Homes"
   ]
  },
  {
   "cell_type": "code",
   "execution_count": 836,
   "id": "c0ac037d",
   "metadata": {},
   "outputs": [
    {
     "data": {
      "text/plain": [
       "95"
      ]
     },
     "execution_count": 836,
     "metadata": {},
     "output_type": "execute_result"
    }
   ],
   "source": [
    "Homes = make_homes(cleaned_urls)\n",
    "len(Homes)"
   ]
  },
  {
   "cell_type": "code",
   "execution_count": 887,
   "id": "a808085b",
   "metadata": {},
   "outputs": [
    {
     "name": "stdout",
     "output_type": "stream",
     "text": [
      "783198394\n",
      "https://www.xe.gr/property/d/enoikiaseis-katoikion/783198394/hrakleio-prasinos-lofos-830-78?first_in_widget_ad_id=777324378&rank_in_widget=4&widget_name=search+results+list\n"
     ]
    }
   ],
   "source": [
    "print(Homes[3].property_id)\n",
    "print(Homes[3].property_url)"
   ]
  },
  {
   "cell_type": "code",
   "execution_count": 888,
   "id": "14001fd9",
   "metadata": {},
   "outputs": [],
   "source": [
    "h1 = Homes[3]"
   ]
  },
  {
   "cell_type": "code",
   "execution_count": 889,
   "id": "dfc5f525",
   "metadata": {},
   "outputs": [],
   "source": [
    "url = h1.property_url\n",
    "url\n",
    "# creating requests object\n",
    "html = requests.get(url).content\n",
    "  \n",
    "# creating soup object\n",
    "soup_html = bs(html, 'html.parser')\n",
    "soup_lxml = bs(html, 'lxml')"
   ]
  },
  {
   "cell_type": "code",
   "execution_count": 890,
   "id": "94933401",
   "metadata": {},
   "outputs": [],
   "source": [
    "# finding parent <ul> tag\n",
    "parent = soup_html.find(\"body\").find(\"ul\")\n",
    "\n",
    "# finding all <li> tags\n",
    "text = list(parent.descendants)\n",
    "#text\n",
    "# printing the content in <li> tag\n",
    "#print(text)\n",
    "#for i in range(2, len(text), 2):\n",
    "#    print(text[i], end=\" \")\n",
    "#for i in range(6, len(text), 2):\n",
    "#    print(text[i], end=\" \")\n"
   ]
  },
  {
   "cell_type": "code",
   "execution_count": 891,
   "id": "63291236",
   "metadata": {},
   "outputs": [
    {
     "data": {
      "text/plain": [
       "2"
      ]
     },
     "execution_count": 891,
     "metadata": {},
     "output_type": "execute_result"
    }
   ],
   "source": [
    "bedroom = int( text[text.index(\"Υπνοδωμάτια:\") + 2].text )\n",
    "bedroom"
   ]
  },
  {
   "cell_type": "code",
   "execution_count": 892,
   "id": "03c810c5",
   "metadata": {},
   "outputs": [
    {
     "data": {
      "text/plain": [
       "1"
      ]
     },
     "execution_count": 892,
     "metadata": {},
     "output_type": "execute_result"
    }
   ],
   "source": [
    "bathroom=\"NA\"\n",
    "if search(text, \"Μπάνια:\"):\n",
    "    bathroom = int( text[text.index(\"Μπάνια:\") + 2].text )\n",
    "bathroom"
   ]
  },
  {
   "cell_type": "code",
   "execution_count": 893,
   "id": "202e6327",
   "metadata": {},
   "outputs": [
    {
     "data": {
      "text/plain": [
       "3"
      ]
     },
     "execution_count": 893,
     "metadata": {},
     "output_type": "execute_result"
    }
   ],
   "source": [
    "import re\n",
    "floor = int( re.findall(r'\\d+', text[text.index(\"Όροφος:\") + 2].text)[0] )\n",
    "floor"
   ]
  },
  {
   "cell_type": "code",
   "execution_count": 894,
   "id": "ec780c3a",
   "metadata": {},
   "outputs": [
    {
     "data": {
      "text/plain": [
       "2008"
      ]
     },
     "execution_count": 894,
     "metadata": {},
     "output_type": "execute_result"
    }
   ],
   "source": [
    "house_construction = int(text[text.index(\"Έτος κατασκευής:\") + 2].text)\n",
    "house_construction"
   ]
  },
  {
   "cell_type": "code",
   "execution_count": 895,
   "id": "29b6aa56",
   "metadata": {},
   "outputs": [
    {
     "data": {
      "text/plain": [
       "'NA'"
      ]
     },
     "execution_count": 895,
     "metadata": {},
     "output_type": "execute_result"
    }
   ],
   "source": [
    "house_reconstruction=\"NA\"\n",
    "if search(text, \"Έτος ανακαίνισης:\"):\n",
    "    house_reconstruction = int(text[text.index(\"Έτος ανακαίνισης:\") + 2].text)\n",
    "house_reconstruction"
   ]
  },
  {
   "cell_type": "code",
   "execution_count": 896,
   "id": "9093b783",
   "metadata": {},
   "outputs": [
    {
     "data": {
      "text/plain": [
       "'Καλή'"
      ]
     },
     "execution_count": 896,
     "metadata": {},
     "output_type": "execute_result"
    }
   ],
   "source": [
    "building_space = text[text.index(\"Κατάσταση:\") + 2].text\n",
    "building_space"
   ]
  },
  {
   "cell_type": "code",
   "execution_count": 897,
   "id": "15665ce7",
   "metadata": {},
   "outputs": [
    {
     "ename": "ValueError",
     "evalue": "invalid literal for int() with base 10: 'Διαμπερές'",
     "output_type": "error",
     "traceback": [
      "\u001b[0;31m---------------------------------------------------------------------------\u001b[0m",
      "\u001b[0;31mValueError\u001b[0m                                Traceback (most recent call last)",
      "Input \u001b[0;32mIn [897]\u001b[0m, in \u001b[0;36m<cell line: 2>\u001b[0;34m()\u001b[0m\n\u001b[1;32m      1\u001b[0m compass\u001b[38;5;241m=\u001b[39m\u001b[38;5;124m\"\u001b[39m\u001b[38;5;124mNA\u001b[39m\u001b[38;5;124m\"\u001b[39m\n\u001b[1;32m      2\u001b[0m \u001b[38;5;28;01mif\u001b[39;00m search(text, \u001b[38;5;124m\"\u001b[39m\u001b[38;5;124mΠροσανατολισμός:\u001b[39m\u001b[38;5;124m\"\u001b[39m):\n\u001b[0;32m----> 3\u001b[0m     compass \u001b[38;5;241m=\u001b[39m \u001b[38;5;28;43mint\u001b[39;49m\u001b[43m(\u001b[49m\u001b[43mtext\u001b[49m\u001b[43m[\u001b[49m\u001b[43mtext\u001b[49m\u001b[38;5;241;43m.\u001b[39;49m\u001b[43mindex\u001b[49m\u001b[43m(\u001b[49m\u001b[38;5;124;43m\"\u001b[39;49m\u001b[38;5;124;43mΠροσανατολισμός:\u001b[39;49m\u001b[38;5;124;43m\"\u001b[39;49m\u001b[43m)\u001b[49m\u001b[43m \u001b[49m\u001b[38;5;241;43m+\u001b[39;49m\u001b[43m \u001b[49m\u001b[38;5;241;43m2\u001b[39;49m\u001b[43m]\u001b[49m\u001b[38;5;241;43m.\u001b[39;49m\u001b[43mtext\u001b[49m\u001b[43m)\u001b[49m\n\u001b[1;32m      4\u001b[0m compass\n",
      "\u001b[0;31mValueError\u001b[0m: invalid literal for int() with base 10: 'Διαμπερές'"
     ]
    }
   ],
   "source": [
    "compass=\"NA\"\n",
    "if search(text, \"Προσανατολισμός:\"):\n",
    "    compass = int(text[text.index(\"Προσανατολισμός:\") + 2].text)\n",
    "compass"
   ]
  },
  {
   "cell_type": "code",
   "execution_count": 898,
   "id": "aced9d5a",
   "metadata": {},
   "outputs": [
    {
     "data": {
      "text/plain": [
       "True"
      ]
     },
     "execution_count": 898,
     "metadata": {},
     "output_type": "execute_result"
    }
   ],
   "source": [
    "door = search(text, \"Πόρτα ασφαλείας\")\n",
    "door"
   ]
  },
  {
   "cell_type": "code",
   "execution_count": 899,
   "id": "8705d889",
   "metadata": {},
   "outputs": [
    {
     "data": {
      "text/plain": [
       "True"
      ]
     },
     "execution_count": 899,
     "metadata": {},
     "output_type": "execute_result"
    }
   ],
   "source": [
    "canopy = search(text, \"Τέντες\")\n",
    "canopy"
   ]
  },
  {
   "cell_type": "code",
   "execution_count": 901,
   "id": "10c3390a",
   "metadata": {},
   "outputs": [
    {
     "data": {
      "text/plain": [
       "'Αυτόνομη θέρμανση με κεντρική εγκατάσταση'"
      ]
     },
     "execution_count": 901,
     "metadata": {},
     "output_type": "execute_result"
    }
   ],
   "source": [
    "heating=\"NA\"\n",
    "if search(text, \"Θέρμανση:\"):\n",
    "    heating = text[text.index(\"Θέρμανση:\") + 2].text\n",
    "heating"
   ]
  },
  {
   "cell_type": "code",
   "execution_count": 902,
   "id": "b70af7b1",
   "metadata": {},
   "outputs": [
    {
     "data": {
      "text/plain": [
       "'\\n  Διαμέρισμα προς ενοικίαση 78 τ.μ. Ηράκλειο (Πράσινος Λόφος) (Ιδιώτης) | xe.gr\\n'"
      ]
     },
     "execution_count": 902,
     "metadata": {},
     "output_type": "execute_result"
    }
   ],
   "source": [
    "title = soup_lxml.title.string\n",
    "title"
   ]
  },
  {
   "cell_type": "code",
   "execution_count": 903,
   "id": "f78d80b1",
   "metadata": {},
   "outputs": [
    {
     "data": {
      "text/plain": [
       "'\\n                    Πλησίον προαστιακού σταθμού και Αττικής οδού, σε άριστη κατάσταση\\n                  '"
      ]
     },
     "execution_count": 903,
     "metadata": {},
     "output_type": "execute_result"
    }
   ],
   "source": [
    "description = soup_lxml.p.string\n",
    "description"
   ]
  },
  {
   "cell_type": "code",
   "execution_count": 904,
   "id": "9456cd93",
   "metadata": {},
   "outputs": [
    {
     "data": {
      "text/plain": [
       "830"
      ]
     },
     "execution_count": 904,
     "metadata": {},
     "output_type": "execute_result"
    }
   ],
   "source": [
    "price = int (re.findall(r'\\d+', soup_lxml.find(class_='price').h2.text)[0])\n",
    "price"
   ]
  },
  {
   "cell_type": "code",
   "execution_count": null,
   "id": "e58cbfaf",
   "metadata": {},
   "outputs": [],
   "source": []
  }
 ],
 "metadata": {
  "kernelspec": {
   "display_name": "Python 3 (ipykernel)",
   "language": "python",
   "name": "python3"
  },
  "language_info": {
   "codemirror_mode": {
    "name": "ipython",
    "version": 3
   },
   "file_extension": ".py",
   "mimetype": "text/x-python",
   "name": "python",
   "nbconvert_exporter": "python",
   "pygments_lexer": "ipython3",
   "version": "3.9.12"
  }
 },
 "nbformat": 4,
 "nbformat_minor": 5
}
