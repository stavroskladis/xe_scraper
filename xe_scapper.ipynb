{
 "cells": [
  {
   "cell_type": "code",
   "execution_count": 61,
   "id": "c9235d65",
   "metadata": {
    "pycharm": {
     "name": "#%%\n"
    }
   },
   "outputs": [],
   "source": [
    "import re\n",
    "import smtplib\n",
    "from datetime import datetime\n",
    "import requests\n",
    "from bs4 import BeautifulSoup as bs\n",
    "import os\n",
    "import re\n",
    "from random import randint\n",
    "from time import sleep"
   ]
  },
  {
   "cell_type": "code",
   "execution_count": 62,
   "id": "9e4db74a",
   "metadata": {
    "pycharm": {
     "name": "#%%\n"
    }
   },
   "outputs": [],
   "source": [
    "# Get unique values\n",
    "def unique(xlist):\n",
    "    unique_list = []\n",
    "    \n",
    "    for x in xlist:\n",
    "        if x not in unique_list:\n",
    "            unique_list.append(x)\n",
    "    \n",
    "    return unique_list"
   ]
  },
  {
   "cell_type": "code",
   "execution_count": 63,
   "id": "abc72286",
   "metadata": {
    "pycharm": {
     "name": "#%%\n"
    }
   },
   "outputs": [],
   "source": [
    "def search(list, keyword):\n",
    "    for i in range(len(list)):\n",
    "        if list[i] == keyword:\n",
    "            return True\n",
    "    return False"
   ]
  },
  {
   "cell_type": "code",
   "execution_count": 64,
   "id": "ee09b675",
   "metadata": {
    "pycharm": {
     "name": "#%%\n"
    }
   },
   "outputs": [],
   "source": [
    "query_url = \"https://www.xe.gr/property/results?transaction_name=rent&item_type=re_residence&maximum_price=960&minimum_size=57&geo_lat_from=38.0999672763109&geo_lng_from=24.061083822481493&geo_lat_to=37.792875685371634&geo_lng_to=23.530055641375128&sorting=update_desc\"\n",
    "crafted_urls = []\n",
    "uniq_urls = []\n",
    "start_page = 0  # Should be 1 at minimum\n",
    "max_page_num = 1  # upper limit for the web page number to scrapp\n",
    "links = []\n",
    "\n",
    "for i in range(start_page, max_page_num):\n",
    "    crafted_urls.append( query_url + \"&page=\" + str(i+1) )\n",
    "    soup = bs(requests.get(crafted_urls[i]).content, 'lxml')\n",
    "    \n",
    "    for a_tag in soup.select('a[href*=\"enoikiaseis-katoikion\"]'):\n",
    "        links.append(a_tag['href'])\n",
    "        \n",
    "    links = links[:-15]\n"
   ]
  },
  {
   "cell_type": "code",
   "execution_count": 65,
   "id": "626cf616",
   "metadata": {
    "pycharm": {
     "name": "#%%\n"
    }
   },
   "outputs": [
    {
     "data": {
      "text/plain": [
       "68"
      ]
     },
     "execution_count": 65,
     "metadata": {},
     "output_type": "execute_result"
    }
   ],
   "source": [
    "len(links)"
   ]
  },
  {
   "cell_type": "code",
   "execution_count": 66,
   "id": "4f5828e8",
   "metadata": {
    "pycharm": {
     "name": "#%%\n"
    }
   },
   "outputs": [],
   "source": [
    "uniq_urls = unique(links)"
   ]
  },
  {
   "cell_type": "code",
   "execution_count": 67,
   "id": "435e3248",
   "metadata": {
    "pycharm": {
     "name": "#%%\n"
    }
   },
   "outputs": [
    {
     "data": {
      "text/plain": [
       "34"
      ]
     },
     "execution_count": 67,
     "metadata": {},
     "output_type": "execute_result"
    }
   ],
   "source": [
    "len(uniq_urls)"
   ]
  },
  {
   "cell_type": "code",
   "execution_count": 68,
   "id": "a8a097c0",
   "metadata": {
    "pycharm": {
     "name": "#%%\n"
    }
   },
   "outputs": [],
   "source": [
    "blacklist_areas = [\n",
    "    \"nosokomeio-paidwn\", \n",
    "    \"athhna-plateia-amerikhs\",\n",
    "    \"vyrwnas\",\n",
    "    \"zwgrafoy-kentro\",\n",
    "    \"nosokomeio-paidwn\",\n",
    "    \"athhna-koyntoyriwtika\",\n",
    "    \"athhna-kynosargoys\",\n",
    "    \"galatsi\",\n",
    "    \"porto-rafth\",\n",
    "    \"pagkrati\",\n",
    "    \"ippokratoys\",\n",
    "    \"ilion\",\n",
    "    \"liosia\",\n",
    "    \"keratsini\"\n",
    "    ]"
   ]
  },
  {
   "cell_type": "code",
   "execution_count": 69,
   "id": "2ca1270e",
   "metadata": {
    "pycharm": {
     "name": "#%%\n"
    }
   },
   "outputs": [
    {
     "data": {
      "text/plain": [
       "['nosokomeio-paidwn',\n",
       " 'athhna-plateia-amerikhs',\n",
       " 'vyrwnas',\n",
       " 'zwgrafoy-kentro',\n",
       " 'athhna-koyntoyriwtika',\n",
       " 'athhna-kynosargoys',\n",
       " 'galatsi',\n",
       " 'porto-rafth',\n",
       " 'pagkrati',\n",
       " 'ippokratoys',\n",
       " 'ilion',\n",
       " 'liosia',\n",
       " 'keratsini']"
      ]
     },
     "execution_count": 69,
     "metadata": {},
     "output_type": "execute_result"
    }
   ],
   "source": [
    "blacklist_areas = unique(blacklist_areas)\n",
    "blacklist_areas"
   ]
  },
  {
   "cell_type": "code",
   "execution_count": 70,
   "id": "3d4cad05",
   "metadata": {
    "pycharm": {
     "name": "#%%\n"
    }
   },
   "outputs": [],
   "source": [
    "def filter_blacklisted_areas(urls, blacklist_areas):\n",
    "    # Filters based on blacklisted areas\n",
    "        \n",
    "    for url in urls:\n",
    "        for area in blacklist_areas:\n",
    "            if area in url:\n",
    "                urls.remove(url)\n",
    "                break # if blacklisted break the loop\n",
    "    return urls"
   ]
  },
  {
   "cell_type": "code",
   "execution_count": 71,
   "id": "f63467ea",
   "metadata": {
    "pycharm": {
     "name": "#%%\n"
    }
   },
   "outputs": [],
   "source": [
    "cleaned_urls= filter_blacklisted_areas(uniq_urls, blacklist_areas)"
   ]
  },
  {
   "cell_type": "code",
   "execution_count": 72,
   "id": "e8b135d6",
   "metadata": {
    "pycharm": {
     "name": "#%%\n"
    }
   },
   "outputs": [
    {
     "name": "stdout",
     "output_type": "stream",
     "text": [
      "28\n"
     ]
    }
   ],
   "source": [
    "print(len(cleaned_urls))"
   ]
  },
  {
   "cell_type": "code",
   "execution_count": 74,
   "id": "d1e38532",
   "metadata": {
    "pycharm": {
     "name": "#%%\n"
    }
   },
   "outputs": [],
   "source": [
    "class Home:\n",
    "    def __init__(self, property_url):\n",
    "        self.property_url = property_url\n",
    "        self.property_id = -1\n",
    "        self.bedroom = -1\n",
    "        self.bathroom = -1\n",
    "        self.floor = -1\n",
    "        self.house_reconstruction = \"NA\"\n",
    "        self.building_space = \"NA\"\n",
    "        self.compass = \"NA\"\n",
    "        self.title = \"NA\"\n",
    "        self.price = -1\n",
    "        self.door = False\n",
    "        self.canopy = False\n",
    "        self.heating = \"NA\"\n",
    "        self.is_estate = True\n",
    "        self.description = \"NA\"\n",
    "        self.has_oil = False\n",
    "        self.rejected = True\n",
    "        \n",
    "    def set_property_id(self):\n",
    "        self.property_id = self.property_url.split('/')[6]\n",
    "        \n",
    "    def house_print_info(self):\n",
    "        print(f'Ηλεκτρονική Διεύθυνση: {self.property_url}')\n",
    "        print(f'Αναγνωριστικό: {self.property_id}')\n",
    "        print(f'Υπνοδωμάτια: {self.bedroom}')\n",
    "        print(f'Μπάνια: {self.bathroom}')\n",
    "        print(f'Όροφος: {self.floor}')\n",
    "        print(f'Έτος ανακαίνισης: {self.house_reconstruction}')\n",
    "        print(f'Κατάσταση: {self.building_space}')\n",
    "        print(f'Προσανατολισμός: {self.compass}')\n",
    "        print(f'Τίτλος: {self.title}')\n",
    "        print(f'Τιμή: {self.price}')\n",
    "        print(f'Πόρτα ασφαλείας: {self.door}')\n",
    "        print(f'Τέντες: {self.canopy}')\n",
    "        print(f'Θέρμανση: {self.heating}')\n",
    "        print(f'Μεσίτης: {self.is_estate}')\n",
    "        print(f'Περιγραφή: {self.description}')\n",
    "        print(f'Πετρέλαιο: {self.has_oil}')\n",
    "\n",
    "\n",
    "    def set_house_info(self, soup_html, soup_lxml):\n",
    "        \n",
    "        if search(self.text, \"Υπνοδωμάτια:\"):\n",
    "            self.bedroom = int( self.text[self.text.index(\"Υπνοδωμάτια:\") + 2].text )\n",
    "\n",
    "        if search(self.text, \"Μπάνια:\"):\n",
    "            self.bathroom = int( self.text[self.text.index(\"Μπάνια:\") + 2].text )\n",
    "\n",
    "        floor_data = self.text[self.text.index(\"Όροφος:\") + 2].text\n",
    "        if type(floor_data) == list and len(floor_data) > 1:\n",
    "            floor_data = floor_data[0]\n",
    "        if ((floor_data == 'Ισόγειο') or (floor_data == 'Υπερυψωμένο, Ισόγειο') or (floor_data == 'Υπερυψωμένο')):\n",
    "            self.floor = 0\n",
    "        elif floor_data == 'Ημιώροφος':\n",
    "            self.floor = 1/2\n",
    "        elif floor_data == 'Ημιυπόγειο':\n",
    "            self.floor = -1/2\n",
    "        else:\n",
    "            digits = re.findall(r'\\d+', floor_data)\n",
    "            if type(digits) == list and len(digits) > 0:\n",
    "                digits = digits[0]\n",
    "            self.floor = int(str(digits))\n",
    "\n",
    "        if search(self.text, \"Έτος ανακαίνισης:\"):\n",
    "            self.house_reconstruction = int(self.text[self.text.index(\"Έτος ανακαίνισης:\") + 2].text)\n",
    "\n",
    "        if search(self.text, \"Κατάσταση:\"):\n",
    "            self.building_space = self.text[self.text.index(\"Κατάσταση:\") + 2].text\n",
    "\n",
    "        if search(self.text, \"Προσανατολισμός:\"):\n",
    "            self.compass = self.text[self.text.index(\"Προσανατολισμός:\") + 2].text\n",
    "\n",
    "        self.title = soup_lxml.title.string\n",
    "        self.price = int (re.findall(r'\\d+', soup_lxml.find(class_='price').h2.text)[0])\n",
    "        self.door = search(self.text, \"Πόρτα ασφαλείας\")\n",
    "        self.canopy = search(self.text, \"Τέντες\")\n",
    "\n",
    "        if search(self.text, \"Θέρμανση:\"):\n",
    "            self.heating = self.text[self.text.index(\"Θέρμανση:\") + 2].text\n",
    "        \n",
    "        if self.title.find('Ιδιώτης') != -1:\n",
    "            self.is_estate = False\n",
    "        elif len(soup_html.find_all(\"h2\", {\"class\": \"title\"})) == 0:\n",
    "            self.is_estate = True\n",
    "        \n",
    "\n",
    "        if self.description:\n",
    "            if ((self.description.find('πετρέλαιο') != -1) or (self.description.find('πετρελαίου') != -1)):\n",
    "                self.has_oil = True\n",
    "        if search(self.text, \"Μέσο θέρμανσης:\"):\n",
    "            self.heating = self.text[self.text.index(\"Μέσο θέρμανσης:\") + 2].text\n",
    "            if self.heating == \"Πετρέλαιο\" or self.heating == \"πετρελαίου\":\n",
    "                self.has_oil = True\n",
    "            \n",
    "    def set_text(self, soup_html):\n",
    "        parent = soup_html.find(\"body\").find(\"ul\")  # finding parent <ul> tag\n",
    "        self.text = list(parent.descendants)  # finding all <li> tags\n",
    "        \n",
    "    def validate(self):\n",
    "        if not self.has_oil and not self.is_estate:\n",
    "            self.rejected = False"
   ]
  },
  {
   "cell_type": "code",
   "execution_count": 75,
   "id": "0331d996",
   "metadata": {
    "pycharm": {
     "name": "#%%\n"
    }
   },
   "outputs": [],
   "source": [
    "def make_homes(urls):\n",
    "    Homes = []\n",
    "\n",
    "    for i in range(0, len(urls)):\n",
    "        Homes.append(Home(urls[i]))\n",
    "        Homes[i].set_property_id()\n",
    "    \n",
    "    return Homes"
   ]
  },
  {
   "cell_type": "code",
   "execution_count": 76,
   "id": "c0ac037d",
   "metadata": {
    "pycharm": {
     "name": "#%%\n"
    }
   },
   "outputs": [
    {
     "data": {
      "text/plain": [
       "28"
      ]
     },
     "execution_count": 76,
     "metadata": {},
     "output_type": "execute_result"
    }
   ],
   "source": [
    "Homes = make_homes(cleaned_urls)\n",
    "len(Homes)"
   ]
  },
  {
   "cell_type": "code",
   "execution_count": 77,
   "id": "a808085b",
   "metadata": {
    "pycharm": {
     "name": "#%%\n"
    }
   },
   "outputs": [
    {
     "name": "stdout",
     "output_type": "stream",
     "text": [
      "782954193\n",
      "https://www.xe.gr/property/d/enoikiaseis-katoikion/782954193/kallithea-tzitzifies-450-58?first_in_widget_ad_id=784397681&rank_in_widget=5&widget_name=search+results+list\n"
     ]
    }
   ],
   "source": [
    "print(Homes[3].property_id)\n",
    "print(Homes[3].property_url)"
   ]
  },
  {
   "cell_type": "code",
   "execution_count": 78,
   "id": "a8ba2d25",
   "metadata": {
    "pycharm": {
     "name": "#%%\n"
    }
   },
   "outputs": [],
   "source": [
    "def get_soup_objects(url):\n",
    "    \n",
    "    # creating requests object\n",
    "    html = requests.get(url).content\n",
    "        \n",
    "    # creating soup objects\n",
    "    soup_html = bs(html, 'html.parser')\n",
    "    soup_lxml = bs(html, 'lxml')\n",
    "    \n",
    "    return [soup_html, soup_lxml]"
   ]
  },
  {
   "cell_type": "code",
   "execution_count": 84,
   "id": "ff9ae44f",
   "metadata": {
    "pycharm": {
     "name": "#%%\n"
    }
   },
   "outputs": [],
   "source": [
    "def parse_and_filter_homes():\n",
    "    selected_houses = []\n",
    "    selected = False\n",
    "    \n",
    "    for h in Homes:\n",
    "        delay = randint(1,5)\n",
    "        print(f'\\nProcessing house with id: {h.property_id} (sleeping for {delay} seconds)')\n",
    "        sleep(delay)\n",
    "        \n",
    "        [soup_html, soup_lxml] = get_soup_objects(h.property_url)\n",
    "        \n",
    "        # find tags and set text\n",
    "        h.set_text(soup_html) \n",
    "        \n",
    "        h.set_house_info(soup_html, soup_lxml)\n",
    "        \n",
    "        h.validate()\n",
    "        \n",
    "        if not h.rejected:\n",
    "            h.house_print_info()\n",
    "            selected_houses.append(h)\n",
    "            print(f'This house matches out criteria!')\n",
    "            print(f'Addind it to our database...')\n",
    "            print(f'Informing you via email...')\n",
    "        else:\n",
    "            print(f'{h.property_id} has been rejected')\n",
    "        \n",
    "    \n",
    "    return selected_houses"
   ]
  },
  {
   "cell_type": "code",
   "execution_count": 85,
   "id": "90bf9a68",
   "metadata": {
    "pycharm": {
     "name": "#%%\n"
    }
   },
   "outputs": [
    {
     "name": "stdout",
     "output_type": "stream",
     "text": [
      "https://www.xe.gr/property/d/enoikiaseis-katoikion/785917364/neo-psychiko-plateia-eleytherias-850-80?first_in_widget_ad_id=710215681&rank_in_widget=22&widget_name=search+results+list\n"
     ]
    }
   ],
   "source": [
    "h = Homes[3]\n",
    "h.property_url = 'https://www.xe.gr/property/d/enoikiaseis-katoikion/785917364/neo-psychiko-plateia-eleytherias-850-80?first_in_widget_ad_id=710215681&rank_in_widget=22&widget_name=search+results+list'\n",
    "print(h.property_url)"
   ]
  },
  {
   "cell_type": "code",
   "execution_count": 86,
   "id": "7f2eb3da",
   "metadata": {
    "pycharm": {
     "name": "#%%\n"
    }
   },
   "outputs": [],
   "source": [
    "[soup_html, soup_lxml] = get_soup_objects(h.property_url)"
   ]
  },
  {
   "cell_type": "code",
   "execution_count": 87,
   "id": "b2ce398f",
   "metadata": {
    "pycharm": {
     "name": "#%%\n"
    }
   },
   "outputs": [],
   "source": [
    "parent = soup_html.find(\"body\").find(\"ul\")  # finding parent <ul> tag\n",
    "text = list(parent.descendants)  # finding all <li> tags"
   ]
  },
  {
   "cell_type": "code",
   "execution_count": 88,
   "id": "14e01a26",
   "metadata": {
    "scrolled": false,
    "pycharm": {
     "name": "#%%\n"
    }
   },
   "outputs": [
    {
     "name": "stdout",
     "output_type": "stream",
     "text": [
      "\n",
      "Processing house with id: 784315373 (sleeping for 3 seconds)\n",
      "784315373 has been rejected\n",
      "\n",
      "Processing house with id: 781636560 (sleeping for 1 seconds)\n",
      "781636560 has been rejected\n",
      "\n",
      "Processing house with id: 786020941 (sleeping for 2 seconds)\n",
      "786020941 has been rejected\n",
      "\n",
      "Processing house with id: 782954193 (sleeping for 2 seconds)\n",
      "782954193 has been rejected\n",
      "\n",
      "Processing house with id: 783968892 (sleeping for 1 seconds)\n",
      "Ηλεκτρονική Διεύθυνση: https://www.xe.gr/property/d/enoikiaseis-katoikion/783968892/athhna-katw-pathsia-400-60?first_in_widget_ad_id=784397681&rank_in_widget=6&widget_name=search+results+list\n",
      "Αναγνωριστικό: 783968892\n",
      "Υπνοδωμάτια: 2\n",
      "Μπάνια: 1\n",
      "Όροφος: 2\n",
      "Έτος ανακαίνισης: 2022\n",
      "Κατάσταση: Ανακαινισμένο\n",
      "Προσανατολισμός: NA\n",
      "Τίτλος: \n",
      "  Διαμέρισμα προς ενοικίαση 60 τ.μ. Αθήνα (Κάτω Πατήσια) (Ιδιώτης) | xe.gr\n",
      "\n",
      "Τιμή: 400\n",
      "Πόρτα ασφαλείας: False\n",
      "Τέντες: False\n",
      "Θέρμανση: NA\n",
      "Μεσίτης: False\n",
      "Περιγραφή: NA\n",
      "Πετρέλαιο: False\n",
      "This house matches out criteria!\n",
      "Addind it to our database...\n",
      "Informing you via email...\n",
      "\n",
      "Processing house with id: 783644013 (sleeping for 5 seconds)\n",
      "783644013 has been rejected\n",
      "\n",
      "Processing house with id: 786020832 (sleeping for 3 seconds)\n",
      "786020832 has been rejected\n",
      "\n",
      "Processing house with id: 786020772 (sleeping for 5 seconds)\n",
      "Ηλεκτρονική Διεύθυνση: https://www.xe.gr/property/d/enoikiaseis-katoikion/786020772/nea-smyrnh-kentro-950-103?first_in_widget_ad_id=784397681&rank_in_widget=10&widget_name=search+results+list\n",
      "Αναγνωριστικό: 786020772\n",
      "Υπνοδωμάτια: 2\n",
      "Μπάνια: 1\n",
      "Όροφος: 3\n",
      "Έτος ανακαίνισης: 2022\n",
      "Κατάσταση: Ανακαινισμένο\n",
      "Προσανατολισμός: NA\n",
      "Τίτλος: \n",
      "  Διαμέρισμα προς ενοικίαση 103 τ.μ. Νέα Σμύρνη (Κέντρο) (Ιδιώτης) | xe.gr\n",
      "\n",
      "Τιμή: 950\n",
      "Πόρτα ασφαλείας: False\n",
      "Τέντες: False\n",
      "Θέρμανση: NA\n",
      "Μεσίτης: False\n",
      "Περιγραφή: NA\n",
      "Πετρέλαιο: False\n",
      "This house matches out criteria!\n",
      "Addind it to our database...\n",
      "Informing you via email...\n",
      "\n",
      "Processing house with id: 786020616 (sleeping for 1 seconds)\n",
      "786020616 has been rejected\n",
      "\n",
      "Processing house with id: 786020525 (sleeping for 3 seconds)\n",
      "786020525 has been rejected\n",
      "\n",
      "Processing house with id: 786020476 (sleeping for 5 seconds)\n",
      "786020476 has been rejected\n",
      "\n",
      "Processing house with id: 786020463 (sleeping for 1 seconds)\n",
      "786020463 has been rejected\n",
      "\n",
      "Processing house with id: 786020460 (sleeping for 1 seconds)\n",
      "786020460 has been rejected\n",
      "\n",
      "Processing house with id: 786020323 (sleeping for 2 seconds)\n",
      "786020323 has been rejected\n",
      "\n",
      "Processing house with id: 780905362 (sleeping for 2 seconds)\n",
      "Ηλεκτρονική Διεύθυνση: https://www.xe.gr/property/d/enoikiaseis-katoikion/780905362/athhna-metaxoyrgeio-750-94?first_in_widget_ad_id=784397681&rank_in_widget=19&widget_name=search+results+list\n",
      "Αναγνωριστικό: 780905362\n",
      "Υπνοδωμάτια: 2\n",
      "Μπάνια: 2\n",
      "Όροφος: 4\n",
      "Έτος ανακαίνισης: 2017\n",
      "Κατάσταση: Ανακαινισμένο\n",
      "Προσανατολισμός: NA\n",
      "Τίτλος: \n",
      "  Διαμέρισμα προς ενοικίαση 94 τ.μ. Αθήνα (Μεταξουργείο) (Ιδιώτης) | xe.gr\n",
      "\n",
      "Τιμή: 750\n",
      "Πόρτα ασφαλείας: True\n",
      "Τέντες: True\n",
      "Θέρμανση: NA\n",
      "Μεσίτης: False\n",
      "Περιγραφή: NA\n",
      "Πετρέλαιο: False\n",
      "This house matches out criteria!\n",
      "Addind it to our database...\n",
      "Informing you via email...\n",
      "\n",
      "Processing house with id: 786020303 (sleeping for 4 seconds)\n",
      "Ηλεκτρονική Διεύθυνση: https://www.xe.gr/property/d/enoikiaseis-katoikion/786020303/nea-makrh-700-85?first_in_widget_ad_id=784397681&rank_in_widget=20&widget_name=search+results+list\n",
      "Αναγνωριστικό: 786020303\n",
      "Υπνοδωμάτια: 2\n",
      "Μπάνια: 1\n",
      "Όροφος: 0\n",
      "Έτος ανακαίνισης: NA\n",
      "Κατάσταση: Καλή\n",
      "Προσανατολισμός: Διαμπερές\n",
      "Τίτλος: \n",
      "  Διαμέρισμα προς ενοικίαση 85 τ.μ. Νέα Μάκρη (Ιδιώτης) | xe.gr\n",
      "\n",
      "Τιμή: 700\n",
      "Πόρτα ασφαλείας: True\n",
      "Τέντες: False\n",
      "Θέρμανση: Ρεύμα\n",
      "Μεσίτης: False\n",
      "Περιγραφή: NA\n",
      "Πετρέλαιο: False\n",
      "This house matches out criteria!\n",
      "Addind it to our database...\n",
      "Informing you via email...\n",
      "\n",
      "Processing house with id: 786020277 (sleeping for 5 seconds)\n",
      "Ηλεκτρονική Διεύθυνση: https://www.xe.gr/property/d/enoikiaseis-katoikion/786020277/peiraias-kallipolh-640-90?first_in_widget_ad_id=784397681&rank_in_widget=21&widget_name=search+results+list\n",
      "Αναγνωριστικό: 786020277\n",
      "Υπνοδωμάτια: 2\n",
      "Μπάνια: 2\n",
      "Όροφος: 1\n",
      "Έτος ανακαίνισης: 2022\n",
      "Κατάσταση: Ανακαινισμένο\n",
      "Προσανατολισμός: NA\n",
      "Τίτλος: \n",
      "  Διαμέρισμα προς ενοικίαση 90 τ.μ. Πειραιάς (Καλλίπολη) (Ιδιώτης) | xe.gr\n",
      "\n",
      "Τιμή: 640\n",
      "Πόρτα ασφαλείας: False\n",
      "Τέντες: False\n",
      "Θέρμανση: NA\n",
      "Μεσίτης: False\n",
      "Περιγραφή: NA\n",
      "Πετρέλαιο: False\n",
      "This house matches out criteria!\n",
      "Addind it to our database...\n",
      "Informing you via email...\n",
      "\n",
      "Processing house with id: 786020167 (sleeping for 5 seconds)\n",
      "786020167 has been rejected\n",
      "\n",
      "Processing house with id: 785150211 (sleeping for 3 seconds)\n",
      "785150211 has been rejected\n",
      "\n",
      "Processing house with id: 785689289 (sleeping for 3 seconds)\n",
      "785689289 has been rejected\n",
      "\n",
      "Processing house with id: 786019282 (sleeping for 4 seconds)\n",
      "786019282 has been rejected\n",
      "\n",
      "Processing house with id: 780553295 (sleeping for 3 seconds)\n",
      "780553295 has been rejected\n",
      "\n",
      "Processing house with id: 728495514 (sleeping for 1 seconds)\n",
      "728495514 has been rejected\n",
      "\n",
      "Processing house with id: 776106825 (sleeping for 3 seconds)\n",
      "776106825 has been rejected\n",
      "\n",
      "Processing house with id: 786019031 (sleeping for 5 seconds)\n",
      "786019031 has been rejected\n",
      "\n",
      "Processing house with id: 786018549 (sleeping for 3 seconds)\n",
      "786018549 has been rejected\n",
      "\n",
      "Processing house with id: 786018483 (sleeping for 1 seconds)\n",
      "Ηλεκτρονική Διεύθυνση: https://www.xe.gr/property/d/enoikiaseis-katoikion/786018483/nikaia-aspra-chwmata-550-60?first_in_widget_ad_id=784397681&rank_in_widget=33&widget_name=search+results+list\n",
      "Αναγνωριστικό: 786018483\n",
      "Υπνοδωμάτια: 2\n",
      "Μπάνια: 1\n",
      "Όροφος: 3\n",
      "Έτος ανακαίνισης: 2018\n",
      "Κατάσταση: Ανακαινισμένο\n",
      "Προσανατολισμός: Διαμπερές\n",
      "Τίτλος: \n",
      "  Διαμέρισμα προς ενοικίαση 60 τ.μ. Νίκαια (Άσπρα Χώματα) (Ιδιώτης) | xe.gr\n",
      "\n",
      "Τιμή: 550\n",
      "Πόρτα ασφαλείας: True\n",
      "Τέντες: True\n",
      "Θέρμανση: NA\n",
      "Μεσίτης: False\n",
      "Περιγραφή: NA\n",
      "Πετρέλαιο: False\n",
      "This house matches out criteria!\n",
      "Addind it to our database...\n",
      "Informing you via email...\n",
      "\n",
      "Processing house with id: 786017718 (sleeping for 1 seconds)\n",
      "786017718 has been rejected\n"
     ]
    }
   ],
   "source": [
    "selected_houses = parse_and_filter_homes()"
   ]
  },
  {
   "cell_type": "code",
   "execution_count": null,
   "id": "6490a7fb",
   "metadata": {
    "pycharm": {
     "name": "#%%\n"
    }
   },
   "outputs": [],
   "source": []
  },
  {
   "cell_type": "code",
   "execution_count": 19,
   "id": "7746daea",
   "metadata": {
    "pycharm": {
     "name": "#%%\n"
    }
   },
   "outputs": [],
   "source": [
    "url='https://www.xe.gr/property/d/enoikiaseis-katoikion/785796801/petroypolh-kentro-600-65?first_in_widget_ad_id=785765828&rank_in_widget=15&widget_name=search+results+list'\n",
    "html = requests.get(url).content\n",
    "soup_html = bs(html, 'html.parser')\n",
    "soup_lxml = bs(html, 'lxml')\n",
    "parent = soup_html.find(\"body\").find(\"ul\")\n",
    "text = list(parent.descendants)\n"
   ]
  },
  {
   "cell_type": "code",
   "execution_count": 20,
   "id": "63291236",
   "metadata": {
    "pycharm": {
     "name": "#%%\n"
    }
   },
   "outputs": [
    {
     "data": {
      "text/plain": [
       "2"
      ]
     },
     "execution_count": 20,
     "metadata": {},
     "output_type": "execute_result"
    }
   ],
   "source": [
    "bedroom = int( text[text.index(\"Υπνοδωμάτια:\") + 2].text )\n",
    "bedroom"
   ]
  },
  {
   "cell_type": "code",
   "execution_count": 40,
   "id": "e7013215",
   "metadata": {
    "pycharm": {
     "name": "#%%\n"
    }
   },
   "outputs": [],
   "source": [
    "#'Πετρέλαιο'"
   ]
  },
  {
   "cell_type": "code",
   "execution_count": 21,
   "id": "03c810c5",
   "metadata": {
    "pycharm": {
     "name": "#%%\n"
    }
   },
   "outputs": [
    {
     "data": {
      "text/plain": [
       "1"
      ]
     },
     "execution_count": 21,
     "metadata": {},
     "output_type": "execute_result"
    }
   ],
   "source": [
    "bathroom=\"NA\"\n",
    "if search(text, \"Μπάνια:\"):\n",
    "    bathroom = int( text[text.index(\"Μπάνια:\") + 2].text )\n",
    "bathroom"
   ]
  },
  {
   "cell_type": "code",
   "execution_count": 22,
   "id": "52f060af",
   "metadata": {
    "pycharm": {
     "name": "#%%\n"
    }
   },
   "outputs": [
    {
     "data": {
      "text/plain": [
       "<span>1ος</span>"
      ]
     },
     "execution_count": 22,
     "metadata": {},
     "output_type": "execute_result"
    }
   ],
   "source": [
    "text[text.index(\"Όροφος:\") + 2]"
   ]
  },
  {
   "cell_type": "code",
   "execution_count": 23,
   "id": "df8633ff",
   "metadata": {
    "pycharm": {
     "name": "#%%\n"
    }
   },
   "outputs": [
    {
     "data": {
      "text/plain": [
       "'1ος'"
      ]
     },
     "execution_count": 23,
     "metadata": {},
     "output_type": "execute_result"
    }
   ],
   "source": [
    "text[text.index(\"Όροφος:\") + 2].text"
   ]
  },
  {
   "cell_type": "code",
   "execution_count": 24,
   "id": "cd9beb60",
   "metadata": {
    "pycharm": {
     "name": "#%%\n"
    }
   },
   "outputs": [
    {
     "data": {
      "text/plain": [
       "list"
      ]
     },
     "execution_count": 24,
     "metadata": {},
     "output_type": "execute_result"
    }
   ],
   "source": [
    "l = ['Υπερυψωμένο, Ισόγειο', '']\n",
    "type(l)"
   ]
  },
  {
   "cell_type": "code",
   "execution_count": 25,
   "id": "2369bccb",
   "metadata": {
    "pycharm": {
     "name": "#%%\n"
    }
   },
   "outputs": [
    {
     "name": "stdout",
     "output_type": "stream",
     "text": [
      "<class 'str'>\n",
      "1ος\n"
     ]
    },
    {
     "data": {
      "text/plain": [
       "['1']"
      ]
     },
     "execution_count": 25,
     "metadata": {},
     "output_type": "execute_result"
    }
   ],
   "source": [
    "floor_data = text[text.index(\"Όροφος:\") + 2].text\n",
    "print(type(floor_data))\n",
    "print(floor_data)\n",
    "\n",
    "if type(floor_data) == list and len(floor_data) > 1:\n",
    "    floor_data = floor_data[0]\n",
    "re.findall(r'\\d+', floor_data)"
   ]
  },
  {
   "cell_type": "code",
   "execution_count": 26,
   "id": "2991d7bf",
   "metadata": {
    "pycharm": {
     "name": "#%%\n"
    }
   },
   "outputs": [
    {
     "ename": "NameError",
     "evalue": "name 'floor' is not defined",
     "output_type": "error",
     "traceback": [
      "\u001B[0;31m---------------------------------------------------------------------------\u001B[0m",
      "\u001B[0;31mNameError\u001B[0m                                 Traceback (most recent call last)",
      "Input \u001B[0;32mIn [26]\u001B[0m, in \u001B[0;36m<cell line: 14>\u001B[0;34m()\u001B[0m\n\u001B[1;32m     12\u001B[0m         digits \u001B[38;5;241m=\u001B[39m digits[\u001B[38;5;241m0\u001B[39m]\n\u001B[1;32m     13\u001B[0m         floor \u001B[38;5;241m=\u001B[39m \u001B[38;5;28mint\u001B[39m(\u001B[38;5;28mstr\u001B[39m(digits))\n\u001B[0;32m---> 14\u001B[0m \u001B[43mfloor\u001B[49m\n",
      "\u001B[0;31mNameError\u001B[0m: name 'floor' is not defined"
     ]
    }
   ],
   "source": [
    "floor_data = text[text.index(\"Όροφος:\") + 2].text\n",
    "if type(floor_data) == list and len(floor_data) > 1:\n",
    "    floor_data = floor_data[0]\n",
    "    \n",
    "if ((floor_data == 'Ισόγειο') or (floor_data == 'Υπερυψωμένο, Ισόγειο')):\n",
    "    floor = 0\n",
    "elif floor_data == 'Ημιώροφος':\n",
    "    floor = 1/2\n",
    "else:\n",
    "    digits = re.findall(r'\\d+', floor_data)\n",
    "    if type(digits) == list and len(digits) > 1:\n",
    "        digits = digits[0]\n",
    "        floor = int(str(digits))\n",
    "floor"
   ]
  },
  {
   "cell_type": "code",
   "execution_count": 27,
   "id": "29b6aa56",
   "metadata": {
    "pycharm": {
     "name": "#%%\n"
    }
   },
   "outputs": [
    {
     "data": {
      "text/plain": [
       "2022"
      ]
     },
     "execution_count": 27,
     "metadata": {},
     "output_type": "execute_result"
    }
   ],
   "source": [
    "house_reconstruction=\"NA\"\n",
    "if search(text, \"Έτος ανακαίνισης:\"):\n",
    "    house_reconstruction = int(text[text.index(\"Έτος ανακαίνισης:\") + 2].text)\n",
    "house_reconstruction"
   ]
  },
  {
   "cell_type": "code",
   "execution_count": 28,
   "id": "9093b783",
   "metadata": {
    "pycharm": {
     "name": "#%%\n"
    }
   },
   "outputs": [
    {
     "data": {
      "text/plain": [
       "'Ανακαινισμένο'"
      ]
     },
     "execution_count": 28,
     "metadata": {},
     "output_type": "execute_result"
    }
   ],
   "source": [
    "building_space=\"NA\"\n",
    "if search(text, \"Κατάσταση:\"):\n",
    "    building_space = text[text.index(\"Κατάσταση:\") + 2].text\n",
    "building_space"
   ]
  },
  {
   "cell_type": "code",
   "execution_count": 29,
   "id": "15665ce7",
   "metadata": {
    "pycharm": {
     "name": "#%%\n"
    }
   },
   "outputs": [
    {
     "data": {
      "text/plain": [
       "'NA'"
      ]
     },
     "execution_count": 29,
     "metadata": {},
     "output_type": "execute_result"
    }
   ],
   "source": [
    "compass=\"NA\"\n",
    "if search(text, \"Προσανατολισμός:\"):\n",
    "    compass = text[text.index(\"Προσανατολισμός:\") + 2].text\n",
    "compass"
   ]
  },
  {
   "cell_type": "code",
   "execution_count": 30,
   "id": "aced9d5a",
   "metadata": {
    "pycharm": {
     "name": "#%%\n"
    }
   },
   "outputs": [
    {
     "data": {
      "text/plain": [
       "True"
      ]
     },
     "execution_count": 30,
     "metadata": {},
     "output_type": "execute_result"
    }
   ],
   "source": [
    "door = search(text, \"Πόρτα ασφαλείας\")\n",
    "door"
   ]
  },
  {
   "cell_type": "code",
   "execution_count": 31,
   "id": "8705d889",
   "metadata": {
    "pycharm": {
     "name": "#%%\n"
    }
   },
   "outputs": [
    {
     "data": {
      "text/plain": [
       "True"
      ]
     },
     "execution_count": 31,
     "metadata": {},
     "output_type": "execute_result"
    }
   ],
   "source": [
    "canopy = search(text, \"Τέντες\")\n",
    "canopy"
   ]
  },
  {
   "cell_type": "code",
   "execution_count": 32,
   "id": "10c3390a",
   "metadata": {
    "pycharm": {
     "name": "#%%\n"
    }
   },
   "outputs": [
    {
     "data": {
      "text/plain": [
       "'Αυτόνομη θέρμανση με ατομική εγκατάσταση'"
      ]
     },
     "execution_count": 32,
     "metadata": {},
     "output_type": "execute_result"
    }
   ],
   "source": [
    "heating=\"NA\"\n",
    "if search(text, \"Θέρμανση:\"):\n",
    "    heating = text[text.index(\"Θέρμανση:\") + 2].text\n",
    "heating"
   ]
  },
  {
   "cell_type": "code",
   "execution_count": 33,
   "id": "b70af7b1",
   "metadata": {
    "pycharm": {
     "name": "#%%\n"
    }
   },
   "outputs": [
    {
     "data": {
      "text/plain": [
       "'\\n  Διαμέρισμα προς ενοικίαση 65 τ.μ. Πετρούπολη (Κέντρο) (Ιδιώτης) | xe.gr\\n'"
      ]
     },
     "execution_count": 33,
     "metadata": {},
     "output_type": "execute_result"
    }
   ],
   "source": [
    "title = soup_lxml.title.string\n",
    "title"
   ]
  },
  {
   "cell_type": "code",
   "execution_count": 34,
   "id": "3de4553a",
   "metadata": {
    "pycharm": {
     "name": "#%%\n"
    }
   },
   "outputs": [
    {
     "name": "stdout",
     "output_type": "stream",
     "text": [
      "False\n"
     ]
    }
   ],
   "source": [
    "is_estate = False\n",
    "if title.find('Estate') != -1:\n",
    "    is_estate = True\n",
    "print(is_estate)"
   ]
  },
  {
   "cell_type": "code",
   "execution_count": 35,
   "id": "63572afc",
   "metadata": {
    "pycharm": {
     "name": "#%%\n"
    }
   },
   "outputs": [
    {
     "data": {
      "text/plain": [
       "False"
      ]
     },
     "execution_count": 35,
     "metadata": {},
     "output_type": "execute_result"
    }
   ],
   "source": [
    "is_private = False\n",
    "if (len(soup_html.find_all(\"h2\", {\"class\": \"title\"})) != 0):\n",
    "    if (soup_html.find_all(\"h2\", {\"class\": \"title\"})[0].text == 'Αγγελία ιδιώτη'):\n",
    "        is_private = True\n",
    "is_private"
   ]
  },
  {
   "cell_type": "code",
   "execution_count": 36,
   "id": "4de0f7af",
   "metadata": {
    "pycharm": {
     "name": "#%%\n"
    }
   },
   "outputs": [
    {
     "name": "stdout",
     "output_type": "stream",
     "text": [
      "Ιδιώτης\n"
     ]
    }
   ],
   "source": [
    "# written like this in order to face a known bug\n",
    "if (is_private):\n",
    "    print('Ιδιώτης')\n",
    "elif (is_estate):\n",
    "    print('Μεσίτης')\n",
    "else:\n",
    "    print('Ιδιώτης')"
   ]
  },
  {
   "cell_type": "code",
   "execution_count": 37,
   "id": "f78d80b1",
   "metadata": {
    "pycharm": {
     "name": "#%%\n"
    }
   },
   "outputs": [],
   "source": [
    "description = soup_lxml.p.string\n",
    "description"
   ]
  },
  {
   "cell_type": "code",
   "execution_count": 38,
   "id": "9456cd93",
   "metadata": {
    "pycharm": {
     "name": "#%%\n"
    }
   },
   "outputs": [
    {
     "data": {
      "text/plain": [
       "600"
      ]
     },
     "execution_count": 38,
     "metadata": {},
     "output_type": "execute_result"
    }
   ],
   "source": [
    "price = int (re.findall(r'\\d+', soup_lxml.find(class_='price').h2.text)[0])\n",
    "price"
   ]
  },
  {
   "cell_type": "code",
   "execution_count": 39,
   "id": "e58cbfaf",
   "metadata": {
    "pycharm": {
     "name": "#%%\n"
    }
   },
   "outputs": [
    {
     "ename": "AttributeError",
     "evalue": "'NoneType' object has no attribute 'find'",
     "output_type": "error",
     "traceback": [
      "\u001B[0;31m---------------------------------------------------------------------------\u001B[0m",
      "\u001B[0;31mAttributeError\u001B[0m                            Traceback (most recent call last)",
      "Input \u001B[0;32mIn [39]\u001B[0m, in \u001B[0;36m<cell line: 2>\u001B[0;34m()\u001B[0m\n\u001B[1;32m      1\u001B[0m has_oil \u001B[38;5;241m=\u001B[39m \u001B[38;5;28;01mFalse\u001B[39;00m\n\u001B[0;32m----> 2\u001B[0m \u001B[38;5;28;01mif\u001B[39;00m ((\u001B[43mdescription\u001B[49m\u001B[38;5;241;43m.\u001B[39;49m\u001B[43mfind\u001B[49m(\u001B[38;5;124m'\u001B[39m\u001B[38;5;124mπετρέλαιο\u001B[39m\u001B[38;5;124m'\u001B[39m) \u001B[38;5;241m!=\u001B[39m \u001B[38;5;241m-\u001B[39m\u001B[38;5;241m1\u001B[39m) \u001B[38;5;129;01mor\u001B[39;00m (description\u001B[38;5;241m.\u001B[39mfind(\u001B[38;5;124m'\u001B[39m\u001B[38;5;124mπετρελαίου\u001B[39m\u001B[38;5;124m'\u001B[39m) \u001B[38;5;241m!=\u001B[39m \u001B[38;5;241m-\u001B[39m\u001B[38;5;241m1\u001B[39m)):\n\u001B[1;32m      3\u001B[0m     has_oil \u001B[38;5;241m=\u001B[39m \u001B[38;5;28;01mTrue\u001B[39;00m\n\u001B[1;32m      4\u001B[0m has_oil\n",
      "\u001B[0;31mAttributeError\u001B[0m: 'NoneType' object has no attribute 'find'"
     ]
    }
   ],
   "source": [
    "has_oil = False\n",
    "if ((description.find('πετρέλαιο') != -1) or (description.find('πετρελαίου') != -1)):\n",
    "    has_oil = True\n",
    "has_oil"
   ]
  },
  {
   "cell_type": "code",
   "execution_count": null,
   "id": "4ddb71ee",
   "metadata": {
    "pycharm": {
     "name": "#%%\n"
    }
   },
   "outputs": [],
   "source": []
  },
  {
   "cell_type": "code",
   "execution_count": null,
   "id": "9ecbda98",
   "metadata": {
    "pycharm": {
     "name": "#%%\n"
    }
   },
   "outputs": [],
   "source": []
  }
 ],
 "metadata": {
  "kernelspec": {
   "display_name": "Python 3 (ipykernel)",
   "language": "python",
   "name": "python3"
  },
  "language_info": {
   "codemirror_mode": {
    "name": "ipython",
    "version": 3
   },
   "file_extension": ".py",
   "mimetype": "text/x-python",
   "name": "python",
   "nbconvert_exporter": "python",
   "pygments_lexer": "ipython3",
   "version": "3.9.12"
  }
 },
 "nbformat": 4,
 "nbformat_minor": 5
}