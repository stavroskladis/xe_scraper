{
 "cells": [
  {
   "cell_type": "code",
   "execution_count": 2,
   "id": "d5ed59ff",
   "metadata": {},
   "outputs": [],
   "source": [
    "import requests\n",
    "from bs4 import BeautifulSoup as bs\n",
    "import re\n",
    "from random import randint\n",
    "from time import sleep\n",
    "from tqdm import tqdm\n",
    "import mysql.connector\n",
    "import logging\n",
    "from selenium import webdriver\n",
    "from selenium.webdriver.chrome.options import Options\n",
    "from selenium.webdriver.support.ui import WebDriverWait\n",
    "from time import sleep\n",
    "from selenium import webdriver\n",
    "from selenium.webdriver.common.action_chains import ActionChains\n",
    "\n",
    "\n",
    "logging.basicConfig(filename='xe_scrapper.log', level=logging.DEBUG) # encoding='utf-8'\n",
    "\n",
    "\n",
    "def insert_variables_into_table(property_id, property_url, bedroom, bathroom, floor, house_reconstruction,\n",
    "                                building_space, compass, title, price, door, canopy, heating, description, has_oil):\n",
    "    connection = None\n",
    "    try:\n",
    "        # In MySQL 8.0, caching_sha2_password is the default authentication plugin rather than mysql_native_password.\n",
    "        connection = mysql.connector.connect(host='localhost',\n",
    "                                             database='xedb',\n",
    "                                             user='root',\n",
    "                                             password='ctfVGBUIJ67gyBUINXERCTr6vt7bHNJ',\n",
    "                                             auth_plugin='mysql_native_password')\n",
    "\n",
    "        # Check if property_id exists in our database\n",
    "        cursor = connection.cursor()\n",
    "        query = f'SELECT property_id FROM `homes` WHERE property_id = {property_id}'\n",
    "        res = cursor.execute(query)\n",
    "\n",
    "        id_found = False\n",
    "        id_fetched = cursor.fetchone()\n",
    "        if type(id_fetched) == tuple:\n",
    "            id_fetched = id_fetched[0]\n",
    "        if id_fetched == int(property_id):\n",
    "            logging.debug(f'{property_id} property_id found in db, skipping insert...')\n",
    "            id_found = True\n",
    "\n",
    "        # if the house hasn't been already stored in our database, execute insert command\n",
    "        if not id_found:\n",
    "            mySql_insert_query = \"\"\"INSERT INTO homes (property_id, property_url, bedroom, bathroom, floor, \n",
    "                                        house_reconstruction, building_space, compass, title, price, door, canopy, heating,\n",
    "                                        description, has_oil) \n",
    "                                    VALUES (%s, %s, %s, %s, %s, %s, %s, %s, %s, %s, %s, %s, %s, %s, %s) \"\"\"\n",
    "\n",
    "            record = (property_id, property_url, bedroom, bathroom, floor, house_reconstruction, building_space, compass,\n",
    "                      title, price, door, canopy, heating, description, has_oil)\n",
    "            cursor.execute(mySql_insert_query, record)\n",
    "            connection.commit()\n",
    "            logging.debug(\"Record inserted successfully into homes table\")\n",
    "\n",
    "    except mysql.connector.Error as error:\n",
    "        logging.error(\"Failed to insert into MySQL table {}\".format(error))\n",
    "\n",
    "    finally:\n",
    "        if connection and connection.is_connected():\n",
    "            cursor.close()\n",
    "            connection.close()\n",
    "            logging.debug(\"MySQL connection is closed\")\n",
    "\n",
    "    return not id_found\n",
    "\n",
    "\n",
    "# Get unique values\n",
    "def unique(xlist):\n",
    "    unique_list = []\n",
    "\n",
    "    for x in xlist:\n",
    "        if x not in unique_list:\n",
    "            unique_list.append(x)\n",
    "\n",
    "    return unique_list\n",
    "\n",
    "\n",
    "def search(url_list, keyword):\n",
    "    for x in range(len(url_list)):\n",
    "        if url_list[x] == keyword:\n",
    "            return True\n",
    "    return False\n",
    "\n",
    "\n",
    "def filter_blacklisted_areas(urls, blacklisted_areas):\n",
    "    # Filters based on blacklisted areas\n",
    "\n",
    "    for url in urls:\n",
    "        for area in blacklisted_areas:\n",
    "            if area in url:\n",
    "                urls.remove(url)\n",
    "                break  # if blacklisted break the loop\n",
    "    return urls\n",
    "\n",
    "\n",
    "class Home:\n",
    "\n",
    "    def __init__(self, property_url):\n",
    "        self.text = None\n",
    "        self.property_url = property_url\n",
    "        self.property_id = None\n",
    "        self.bedroom = None\n",
    "        self.bathroom = None\n",
    "        self.floor = None\n",
    "        self.house_reconstruction = None\n",
    "        self.building_space = None\n",
    "        self.compass = None\n",
    "        self.title = None\n",
    "        self.price = None\n",
    "        self.door = False\n",
    "        self.canopy = False\n",
    "        self.heating = None\n",
    "        self.is_estate = True\n",
    "        self.description = None\n",
    "        self.has_oil = False\n",
    "        self.rejected = True\n",
    "        self.driver = None\n",
    "\n",
    "\n",
    "    def set_property_id(self):\n",
    "        self.property_id = self.property_url.split('/')[6]\n",
    "\n",
    "\n",
    "    def house_print_info(self):\n",
    "        logging.info(f'Ηλεκτρονική Διεύθυνση: {self.property_url}')\n",
    "        logging.info(f'Αναγνωριστικό: {self.property_id}')\n",
    "        logging.info(f'Υπνοδωμάτια: {self.bedroom}')\n",
    "        logging.info(f'Μπάνια: {self.bathroom}')\n",
    "        logging.info(f'Όροφος: {self.floor}')\n",
    "        logging.info(f'Έτος ανακαίνισης: {self.house_reconstruction}')\n",
    "        logging.info(f'Κατάσταση: {self.building_space}')\n",
    "        logging.info(f'Προσανατολισμός: {self.compass}')\n",
    "        logging.info(f'Τίτλος: {self.title}')\n",
    "        logging.info(f'Τιμή: {self.price}')\n",
    "        logging.info(f'Πόρτα ασφαλείας: {self.door}')\n",
    "        logging.info(f'Τέντες: {self.canopy}')\n",
    "        logging.info(f'Θέρμανση: {self.heating}')\n",
    "        logging.info(f'Μεσίτης: {self.is_estate}')\n",
    "        logging.info(f'Περιγραφή: {self.description}')\n",
    "        logging.info(f'Πετρέλαιο: {self.has_oil}')\n",
    "\n",
    "\n",
    "    def set_house_info(self, soup_html, soup_lxml):\n",
    "\n",
    "        try:\n",
    "            if search(self.text, \"Υπνοδωμάτια:\"):\n",
    "                self.bedroom = int(self.text[self.text.index(\"Υπνοδωμάτια:\") + 2].text)\n",
    "\n",
    "            if search(self.text, \"Μπάνια:\"):\n",
    "                self.bathroom = int(self.text[self.text.index(\"Μπάνια:\") + 2].text)\n",
    "\n",
    "            if search(self.text, \"Όροφος:\"):\n",
    "                floor_data = self.text[self.text.index(\"Όροφος:\") + 2].text\n",
    "                if type(floor_data) == list and len(floor_data) >= 1:\n",
    "                    floor_data = floor_data[0]\n",
    "                if (floor_data == 'Ισόγειο') or (floor_data == 'Υπερυψωμένο, Ισόγειο') or (floor_data == 'Υπερυψωμένο'):\n",
    "                    self.floor = 0\n",
    "                elif floor_data == 'Ημιώροφος':\n",
    "                    self.floor = 1 / 2\n",
    "                elif floor_data == 'Ημιυπόγειο':\n",
    "                    self.floor = -1 / 2\n",
    "                elif floor_data == 'Ισόγειο, Ημιυπόγειο':\n",
    "                    self.floor = -1 / 2\n",
    "                else:\n",
    "                    digits = re.findall(r'\\d+', floor_data)\n",
    "                    if type(digits) == list and len(digits) >= 1:\n",
    "                        digits = digits[0]\n",
    "                    self.floor = int(str(digits))\n",
    "\n",
    "            if search(self.text, \"Έτος ανακαίνισης:\"):\n",
    "                self.house_reconstruction = int(self.text[self.text.index(\"Έτος ανακαίνισης:\") + 2].text)\n",
    "\n",
    "            if search(self.text, \"Κατάσταση:\"):\n",
    "                self.building_space = self.text[self.text.index(\"Κατάσταση:\") + 2].text\n",
    "\n",
    "            if search(self.text, \"Προσανατολισμός:\"):\n",
    "                self.compass = self.text[self.text.index(\"Προσανατολισμός:\") + 2].text.strip()\n",
    "\n",
    "            self.title = soup_lxml.title.string.strip()\n",
    "            self.price = int(re.findall(r'\\d+', soup_lxml.find(class_='price').h2.text)[0])\n",
    "            self.door = search(self.text, \"Πόρτα ασφαλείας\")\n",
    "            self.canopy = search(self.text, \"Τέντες\")\n",
    "\n",
    "            if self.description:\n",
    "                if (self.description.find('πετρέλαιο') != -1) or (self.description.find('πετρελαίου') != -1):\n",
    "                    self.has_oil = True\n",
    "            elif search(self.text, \"Μέσο θέρμανσης:\"):\n",
    "                self.heating = self.text[self.text.index(\"Μέσο θέρμανσης:\") + 2].text\n",
    "                if self.heating == \"Πετρέλαιο\" or self.heating == \"πετρελαίου\":\n",
    "                    self.has_oil = True\n",
    "\n",
    "        except AttributeError as err:\n",
    "            logging.error(f'Exception while processing house with url: {self.property_url} and id: {self.property_id}')\n",
    "            logging.error(f'There is no such attribute {err}, {type(err)}')\n",
    "        except ValueError as err:\n",
    "            logging.error(f'Exception while processing house with url: {self.property_url} and id: {self.property_id}')\n",
    "            logging.error(f'Could not convert data to an integer {err}, {type(err)}')\n",
    "        except BaseException as err:\n",
    "            logging.error(f'Exception while processing house with url: {self.property_url} and id: {self.property_id}')\n",
    "            logging.error(f'Unexpected {err}, {type(err)}')\n",
    "        finally:\n",
    "            pass\n",
    "\n",
    "\n",
    "    def set_text(self, soup_html):\n",
    "        parent = soup_html.find(\"body\").find(\"ul\")  # finding parent <ul> tag\n",
    "        self.text = list(parent.descendants)  # finding all <li> tags\n",
    "\n",
    "\n",
    "    def check_estate(self):\n",
    "\n",
    "        DRIVER_PATH = '/usr/local/bin/chromedriver'\n",
    "\n",
    "        options = Options()\n",
    "        options.add_argument('--headless')\n",
    "        options.add_argument('--no-sandbox')\n",
    "        options.add_argument('--disable-dev-shm-usage')\n",
    "        self.driver = webdriver.Chrome(executable_path=DRIVER_PATH,options=options)\n",
    "        self.driver.maximize_window()\n",
    "\n",
    "        delay = randint(1, 5)\n",
    "        logging.info(f'\\nSleeping for {delay} seconds and get web page: {self.property_url} through chrome driver')\n",
    "        sleep(delay)  # Attempt to avoid scrapping detection\n",
    "        self.driver.get(self.property_url)\n",
    "\n",
    "        buttons = self.driver.find_elements_by_class_name('button-property')\n",
    "        sleep(1)\n",
    "\n",
    "        actions = ActionChains(self.driver)\n",
    "        actions.click(buttons[2])\n",
    "        sleep(1)\n",
    "\n",
    "        actions.perform()\n",
    "        elem_list = self.driver.find_elements_by_tag_name('h2') # [7]\n",
    "\n",
    "        # TODO(SK): false possitives - improve\n",
    "        if len(elem_list) < 8:\n",
    "            self.is_estate = True\n",
    "            logging.debug(f'{self.property_id} len(elem_list) < 8')\n",
    "            logging.info(f'{self.property_url} has been rejected')\n",
    "\n",
    "        elif elem_list[7].text == 'Αγγελία ιδιώτη':\n",
    "            self.is_estate = False\n",
    "            logging.debug(f'{self.property_url} passes: not estate criterium')\n",
    "\n",
    "        else:\n",
    "            self.is_estate = True\n",
    "            logging.debug(f'{self.property_id} estate')\n",
    "            logging.info(f'\\n{self.property_id} has been rejected\\n')\n",
    "\n",
    "\n",
    "    def validate(self):\n",
    "        self.check_estate()\n",
    "\n",
    "        if not self.rejected:\n",
    "            if self.is_estate:\n",
    "                logging.debug(f'This house has been published by a real estate. Rejecting...')\n",
    "                self.rejected = True\n",
    "            elif self.has_oil:\n",
    "                logging.debug(f'This house has oil. Rejecting...')\n",
    "                self.rejected = True\n",
    "\n",
    "\n",
    "def make_homes(urls):\n",
    "    Homes = []\n",
    "\n",
    "    for j in range(0, len(urls)):\n",
    "        Homes.append(Home(urls[j]))\n",
    "        Homes[j].set_property_id()\n",
    "\n",
    "    return Homes\n",
    "\n",
    "\n",
    "def get_soup_objects(url):\n",
    "    # creating requests object\n",
    "    html = requests.get(url).content\n",
    "\n",
    "    # creating soup objects\n",
    "    soup_html = bs(html, 'html.parser')\n",
    "    soup_lxml = bs(html, 'lxml')\n",
    "\n",
    "    return [soup_html, soup_lxml]\n",
    "\n",
    "\n",
    "def parse_and_filter_homes(homes):\n",
    "    selected_houses = []\n",
    "\n",
    "    hbar = tqdm([h for h in homes])\n",
    "    for h in hbar:\n",
    "        delay = randint(1, 5)\n",
    "        sleep(delay)\n",
    "        hbar.set_description(\"Processing home with id: %s\" % h.property_id)\n",
    "\n",
    "        logging.info(f'Processing house with id: {h.property_id},\\n url: {h.property_url}\\n'\n",
    "                     f'(sleeping for {delay} seconds)\\n')\n",
    "\n",
    "        [soup_html, soup_lxml] = get_soup_objects(h.property_url)\n",
    "\n",
    "        # find tags and set text\n",
    "        h.set_text(soup_html)\n",
    "\n",
    "        h.set_house_info(soup_html, soup_lxml)\n",
    "\n",
    "        h.validate()\n",
    "\n",
    "        if not h.rejected:\n",
    "            h.house_print_info()\n",
    "            selected_houses.append(h)\n",
    "            logging.debug(f'This house matches our criteria (to be add it to our database)...')\n",
    "        else:\n",
    "            logging.info(f'{h.property_id} has been rejected')\n",
    "\n",
    "    return selected_houses"
   ]
  },
  {
   "cell_type": "code",
   "execution_count": 44,
   "id": "1edcf44a",
   "metadata": {},
   "outputs": [
    {
     "name": "stderr",
     "output_type": "stream",
     "text": [
      "Getting page: 3: 100%|██████████| 3/3 [00:12<00:00,  4.26s/it]\n"
     ]
    }
   ],
   "source": [
    "# Fixed query, should be loaded dynamically, raw code should be in function main or another function\n",
    "query_url = \"https://www.xe.gr/property/results?transaction_name=rent&item_type=re_residence&maximum_price=960\" \\\n",
    "            \"&minimum_size=57&geo_lat_from=38.0999672763109&geo_lng_from=24.061083822481493&geo_lat_to=37\" \\\n",
    "            \".792875685371634&geo_lng_to=23.530055641375128&sorting=update_desc \"\n",
    "\n",
    "crafted_urls = []\n",
    "start_page = 0  # Should be 1 at minimum\n",
    "max_page_num = 3  # upper limit for the web page number to scrap\n",
    "links = []\n",
    "\n",
    "pgbar = tqdm(range(start_page, max_page_num))\n",
    "for i in pgbar:\n",
    "    delay = randint(1, 5)\n",
    "    logging.info(f'\\nGetting page: {i + 1}, sleeping for {delay} seconds)')\n",
    "    pgbar.set_description(\"Getting page: %s\" % str(i + 1))\n",
    "    sleep(delay)\n",
    "\n",
    "    crafted_urls.append(query_url + \"&page=\" + str(i + 1))\n",
    "    soup = bs(requests.get(crafted_urls[i]).content, 'lxml')\n",
    "\n",
    "    for a_tag in soup.select('a[href*=\"enoikiaseis-katoikion\"]'):\n",
    "        links.append(a_tag['href'])\n",
    "\n",
    "    links = links[:-15]\n",
    "\n",
    "uniq_urls = unique(links)\n",
    "\n",
    "# Should be loaded dynamically\n",
    "blacklist_areas = [\n",
    "        \"nosokomeio-paidwn\",\n",
    "        \"athhna-plateia-amerikhs\",\n",
    "        \"vyrwnas\",\n",
    "        \"zwgrafoy-kentro\",\n",
    "        \"nosokomeio-paidwn\",\n",
    "        \"athhna-koyntoyriwtika\",\n",
    "        \"athhna-kynosargoys\",\n",
    "        \"galatsi\",\n",
    "        \"porto-rafth\",\n",
    "        \"pagkrati\",\n",
    "        \"ippokratoys\",\n",
    "        \"ilion\",\n",
    "        \"liosia\",\n",
    "        \"keratsini\",\n",
    "        \"artemis\"\n",
    "    ]\n",
    "\n",
    "blacklist_areas = unique(blacklist_areas)\n",
    "\n",
    "cleaned_urls = filter_blacklisted_areas(uniq_urls, blacklist_areas)\n",
    "\n",
    "homes = make_homes(cleaned_urls)"
   ]
  },
  {
   "cell_type": "code",
   "execution_count": 63,
   "id": "cd8e9187",
   "metadata": {},
   "outputs": [
    {
     "name": "stdout",
     "output_type": "stream",
     "text": [
      "Processing house with id: 786650034 and url: https://www.xe.gr/property/d/enoikiaseis-katoikion/786650034/nea-pentelh-660-73?first_in_widget_ad_id=786835974&rank_in_widget=17&widget_name=search+results+list\n",
      "Sleeping for 1 seconds...\n"
     ]
    }
   ],
   "source": [
    "#selected_houses = parse_and_filter_homes(homes)\n",
    "\n",
    "selected_houses = []\n",
    "\n",
    "url = \"https://www.xe.gr/property/d/enoikiaseis-katoikion/786650034/nea-pentelh-660-73?first_in_widget_ad_id=786835974&rank_in_widget=17&widget_name=search+results+list\"\n",
    "\n",
    "#for h in homes:\n",
    "#    if h.property_url == url:\n",
    "#        break\n",
    "\n",
    "h = Home(url)\n",
    "h.property_id = '786650034'\n",
    "\n",
    "delay = randint(1, 5)\n",
    "sleep(delay)\n",
    "\n",
    "print(f'Processing house with id: {h.property_id} and url: {h.property_url}')\n",
    "print(f'Sleeping for {delay} seconds...')\n",
    "\n",
    "[soup_html, soup_lxml] = get_soup_objects(h.property_url)\n",
    "\n",
    "# find tags and set text\n",
    "h.set_text(soup_html)\n",
    "\n",
    "#h.set_house_info(soup_html, soup_lxml)\n"
   ]
  },
  {
   "cell_type": "code",
   "execution_count": 64,
   "id": "6c789eb7",
   "metadata": {},
   "outputs": [],
   "source": [
    "if h.description:\n",
    "    if (h.description.find('πετρέλαιο') != -1) or (h.description.find('πετρελαίου') != -1):\n",
    "        h.has_oil = True\n",
    "    if search(h.text, \"Μέσο θέρμανσης:\"):\n",
    "        h.heating = h.text[h.text.index(\"Μέσο θέρμανσης:\") + 2].text\n",
    "        if h.heating == \"Πετρέλαιο\" or h.heating == \"πετρελαίου\":\n",
    "            h.has_oil = True"
   ]
  },
  {
   "cell_type": "code",
   "execution_count": 65,
   "id": "53b9f95f",
   "metadata": {},
   "outputs": [
    {
     "data": {
      "text/plain": [
       "False"
      ]
     },
     "execution_count": 65,
     "metadata": {},
     "output_type": "execute_result"
    }
   ],
   "source": [
    "h.has_oil"
   ]
  },
  {
   "cell_type": "code",
   "execution_count": 66,
   "id": "adc63a3c",
   "metadata": {},
   "outputs": [
    {
     "name": "stdout",
     "output_type": "stream",
     "text": [
      "\n",
      "Sleeping for 3 seconds and get web page: https://www.xe.gr/property/d/enoikiaseis-katoikion/786650034/nea-pentelh-660-73?first_in_widget_ad_id=786835974&rank_in_widget=17&widget_name=search+results+list through chrome driver\n"
     ]
    }
   ],
   "source": [
    "DRIVER_PATH = '/usr/local/bin/chromedriver'\n",
    "\n",
    "options = Options()\n",
    "options.add_argument('--headless')\n",
    "options.add_argument('--no-sandbox')\n",
    "options.add_argument('--disable-dev-shm-usage')\n",
    "h.driver = webdriver.Chrome(executable_path=DRIVER_PATH,options=options)\n",
    "h.driver.maximize_window()\n",
    "\n",
    "delay = randint(1, 5)\n",
    "print(f'\\nSleeping for {delay} seconds and get web page: {h.property_url} through chrome driver')\n",
    "sleep(delay)  # Attempt to avoid scrapping detection\n",
    "h.driver.get(h.property_url)"
   ]
  },
  {
   "cell_type": "code",
   "execution_count": 67,
   "id": "f872f2cd",
   "metadata": {},
   "outputs": [
    {
     "data": {
      "text/plain": [
       "'https://www.xe.gr/property/d/enoikiaseis-katoikion/786650034/nea-pentelh-660-73?first_in_widget_ad_id=786835974&rank_in_widget=17&widget_name=search+results+list'"
      ]
     },
     "execution_count": 67,
     "metadata": {},
     "output_type": "execute_result"
    }
   ],
   "source": [
    "h.property_url"
   ]
  },
  {
   "cell_type": "code",
   "execution_count": 68,
   "id": "677bf76f",
   "metadata": {},
   "outputs": [],
   "source": [
    "buttons = h.driver.find_elements_by_class_name('button-property')\n",
    "sleep(1)\n",
    "\n",
    "actions = ActionChains(h.driver)\n",
    "actions.click(buttons[2])\n",
    "sleep(1)\n",
    "\n",
    "actions.perform()\n",
    "elem_list = h.driver.find_elements_by_tag_name('h2') # [7]"
   ]
  },
  {
   "cell_type": "code",
   "execution_count": 72,
   "id": "f3e1c3c8",
   "metadata": {},
   "outputs": [
    {
     "data": {
      "text/plain": [
       "<selenium.webdriver.remote.webelement.WebElement (session=\"ff2631e557c15292c4084da564d7a20f\", element=\"04171b7a-ebfd-442c-b32d-31ff6f3607ef\")>"
      ]
     },
     "execution_count": 72,
     "metadata": {},
     "output_type": "execute_result"
    }
   ],
   "source": [
    "buttons[2]\n"
   ]
  },
  {
   "cell_type": "code",
   "execution_count": 69,
   "id": "66bba49d",
   "metadata": {},
   "outputs": [
    {
     "data": {
      "text/plain": [
       "7"
      ]
     },
     "execution_count": 69,
     "metadata": {},
     "output_type": "execute_result"
    }
   ],
   "source": [
    "len(elem_list)"
   ]
  },
  {
   "cell_type": "code",
   "execution_count": 70,
   "id": "8ff4d892",
   "metadata": {},
   "outputs": [
    {
     "name": "stdout",
     "output_type": "stream",
     "text": [
      "10.000+ ακίνητα με τα επιλεγμένα κριτήρια-181 είναι με μειωμένη τιμή\n",
      "\n",
      "\n",
      "\n",
      "660 €\n",
      "\n",
      "Οι σημειώσεις μου\n"
     ]
    }
   ],
   "source": [
    "for l in elem_list:\n",
    "    print(l.text)"
   ]
  },
  {
   "cell_type": "code",
   "execution_count": 25,
   "id": "8c592cba",
   "metadata": {},
   "outputs": [
    {
     "name": "stdout",
     "output_type": "stream",
     "text": [
      "https://www.xe.gr/property/d/enoikiaseis-katoikion/786650034/nea-pentelh-660-73?first_in_widget_ad_id=786835974&rank_in_widget=17&widget_name=search+results+list : passes: not estate and not has oil\n"
     ]
    }
   ],
   "source": [
    "# TODO(SK): false possitives - improve\n",
    "if len(elem_list) < 8:\n",
    "    h.is_estate = True\n",
    "    h.rejected = True\n",
    "    print(f'{h.property_id} len(elem_list) < 8')\n",
    "    print(f'{h.property_url} has been rejected')\n",
    "\n",
    "elif elem_list[7].text == 'Αγγελία ιδιώτη':\n",
    "    h.is_estate = False\n",
    "    if h.has_oil == False:\n",
    "        h.rejected = False\n",
    "        print(f'{h.property_url} : passes: not estate and not has oil')\n",
    "    else:\n",
    "        print(f'{h.property_url} : passes: not estate')\n",
    "\n",
    "else:\n",
    "    h.is_estate = True\n",
    "    h.rejected = True\n",
    "    print(f'{h.property_id} estate')\n",
    "    print(f'\\n{h.property_id} has been rejected\\n')"
   ]
  },
  {
   "cell_type": "code",
   "execution_count": 23,
   "id": "8b02341b",
   "metadata": {},
   "outputs": [
    {
     "data": {
      "text/plain": [
       "False"
      ]
     },
     "execution_count": 23,
     "metadata": {},
     "output_type": "execute_result"
    }
   ],
   "source": [
    "len(elem_list) < 8"
   ]
  },
  {
   "cell_type": "code",
   "execution_count": 22,
   "id": "d20ebe2f",
   "metadata": {},
   "outputs": [
    {
     "data": {
      "text/plain": [
       "False"
      ]
     },
     "execution_count": 22,
     "metadata": {},
     "output_type": "execute_result"
    }
   ],
   "source": [
    "h.has_oil"
   ]
  },
  {
   "cell_type": "code",
   "execution_count": 21,
   "id": "19a1a1ea",
   "metadata": {},
   "outputs": [
    {
     "data": {
      "text/plain": [
       "True"
      ]
     },
     "execution_count": 21,
     "metadata": {},
     "output_type": "execute_result"
    }
   ],
   "source": [
    "h.rejected"
   ]
  },
  {
   "cell_type": "code",
   "execution_count": 19,
   "id": "7a62f44e",
   "metadata": {},
   "outputs": [
    {
     "data": {
      "text/plain": [
       "True"
      ]
     },
     "execution_count": 19,
     "metadata": {},
     "output_type": "execute_result"
    }
   ],
   "source": [
    "elem_list[7].text == 'Αγγελία ιδιώτη'"
   ]
  },
  {
   "cell_type": "code",
   "execution_count": 20,
   "id": "a1c482de",
   "metadata": {},
   "outputs": [
    {
     "data": {
      "text/plain": [
       "True"
      ]
     },
     "execution_count": 20,
     "metadata": {},
     "output_type": "execute_result"
    }
   ],
   "source": [
    "h.is_estate"
   ]
  },
  {
   "cell_type": "code",
   "execution_count": 16,
   "id": "8f3464fb",
   "metadata": {},
   "outputs": [
    {
     "name": "stdout",
     "output_type": "stream",
     "text": [
      "786650034 has been rejected\n"
     ]
    }
   ],
   "source": [
    "h.validate()\n",
    "\n",
    "if not h.rejected:\n",
    "    h.house_print_info()\n",
    "    selected_houses.append(h)\n",
    "    print(f'This house matches our criteria (to be add it to our database)...')\n",
    "else:\n",
    "    print(f'{h.property_id} has been rejected')\n"
   ]
  },
  {
   "cell_type": "code",
   "execution_count": null,
   "id": "741ef693",
   "metadata": {},
   "outputs": [],
   "source": [
    "logging.info(f'\\n{len(homes) - len(selected_houses)} houses have been rejected based on your criteria and '\n",
    "            f'{len(selected_houses)} houses have been selected:')\n",
    "\n",
    "new_homes = []\n",
    "shbar = tqdm([sh for sh in selected_houses])\n",
    "for sh in shbar:\n",
    "    inserted = insert_variables_into_table(sh.property_id, sh.property_url, sh.bedroom, sh.bathroom, sh.floor,\n",
    "                                           sh.house_reconstruction, sh.building_space, sh.compass, sh.title,\n",
    "                                           sh.price, sh.door, sh.canopy, sh.heating, sh.description, sh.has_oil)\n",
    "    shbar.set_description(\"Search db for: %s\" % sh.property_id)\n",
    "    if inserted:\n",
    "        new_homes.append(sh)\n",
    "        shbar.set_description(\"Inserted to db: %s\" % sh.property_id)\n",
    "    else:\n",
    "        shbar.set_description(\"House exists in db: %s\" % sh.property_id)\n",
    "\n",
    "new_homes_len = len(new_homes)\n",
    "print(f'\\n\\n{new_homes_len} new houses found\\n')\n",
    "for nh in new_homes:\n",
    "    print(nh.property_url)\n"
   ]
  }
 ],
 "metadata": {
  "kernelspec": {
   "display_name": "Python 3.6.15 64-bit",
   "language": "python",
   "name": "python3"
  },
  "language_info": {
   "codemirror_mode": {
    "name": "ipython",
    "version": 3
   },
   "file_extension": ".py",
   "mimetype": "text/x-python",
   "name": "python",
   "nbconvert_exporter": "python",
   "pygments_lexer": "ipython3",
   "version": "3.6.15"
  },
  "vscode": {
   "interpreter": {
    "hash": "949777d72b0d2535278d3dc13498b2535136f6dfe0678499012e853ee9abcab1"
   }
  }
 },
 "nbformat": 4,
 "nbformat_minor": 5
}
