{
 "cells": [
  {
   "cell_type": "code",
   "execution_count": 248,
   "id": "c9235d65",
   "metadata": {
    "pycharm": {
     "name": "#%%\n"
    }
   },
   "outputs": [],
   "source": [
    "import re\n",
    "import smtplib\n",
    "from datetime import datetime\n",
    "import requests\n",
    "from bs4 import BeautifulSoup as bs\n",
    "import os\n",
    "import re\n",
    "from random import randint\n",
    "from time import sleep\n",
    "from tqdm import tqdm\n",
    "import mysql.connector"
   ]
  },
  {
   "cell_type": "code",
   "execution_count": 228,
   "id": "9e4db74a",
   "metadata": {
    "pycharm": {
     "name": "#%%\n"
    }
   },
   "outputs": [],
   "source": [
    "# Get unique values\n",
    "def unique(xlist):\n",
    "    unique_list = []\n",
    "    \n",
    "    for x in xlist:\n",
    "        if x not in unique_list:\n",
    "            unique_list.append(x)\n",
    "    \n",
    "    return unique_list"
   ]
  },
  {
   "cell_type": "code",
   "execution_count": 229,
   "id": "abc72286",
   "metadata": {
    "pycharm": {
     "name": "#%%\n"
    }
   },
   "outputs": [],
   "source": [
    "def search(list, keyword):\n",
    "    for i in range(len(list)):\n",
    "        if list[i] == keyword:\n",
    "            return True\n",
    "    return False"
   ]
  },
  {
   "cell_type": "code",
   "execution_count": 230,
   "id": "ee09b675",
   "metadata": {
    "pycharm": {
     "name": "#%%\n"
    }
   },
   "outputs": [],
   "source": [
    "query_url = \"https://www.xe.gr/property/results?transaction_name=rent&item_type=re_residence&maximum_price=960&minimum_size=57&geo_lat_from=38.0999672763109&geo_lng_from=24.061083822481493&geo_lat_to=37.792875685371634&geo_lng_to=23.530055641375128&sorting=update_desc\"\n",
    "crafted_urls = []\n",
    "uniq_urls = []\n",
    "start_page = 0  # Should be 1 at minimum\n",
    "max_page_num = 1  # upper limit for the web page number to scrapp\n",
    "links = []\n",
    "\n",
    "for i in range(start_page, max_page_num):\n",
    "    crafted_urls.append( query_url + \"&page=\" + str(i+1) )\n",
    "    soup = bs(requests.get(crafted_urls[i]).content, 'lxml')\n",
    "    \n",
    "    for a_tag in soup.select('a[href*=\"enoikiaseis-katoikion\"]'):\n",
    "        links.append(a_tag['href'])\n",
    "        \n",
    "    links = links[:-15]\n"
   ]
  },
  {
   "cell_type": "code",
   "execution_count": 231,
   "id": "626cf616",
   "metadata": {
    "pycharm": {
     "name": "#%%\n"
    }
   },
   "outputs": [
    {
     "data": {
      "text/plain": [
       "68"
      ]
     },
     "execution_count": 231,
     "metadata": {},
     "output_type": "execute_result"
    }
   ],
   "source": [
    "len(links)"
   ]
  },
  {
   "cell_type": "code",
   "execution_count": 232,
   "id": "4f5828e8",
   "metadata": {
    "pycharm": {
     "name": "#%%\n"
    }
   },
   "outputs": [],
   "source": [
    "uniq_urls = unique(links)"
   ]
  },
  {
   "cell_type": "code",
   "execution_count": 233,
   "id": "435e3248",
   "metadata": {
    "pycharm": {
     "name": "#%%\n"
    }
   },
   "outputs": [
    {
     "data": {
      "text/plain": [
       "34"
      ]
     },
     "execution_count": 233,
     "metadata": {},
     "output_type": "execute_result"
    }
   ],
   "source": [
    "len(uniq_urls)"
   ]
  },
  {
   "cell_type": "code",
   "execution_count": 234,
   "id": "a8a097c0",
   "metadata": {
    "pycharm": {
     "name": "#%%\n"
    }
   },
   "outputs": [],
   "source": [
    "blacklist_areas = [\n",
    "    \"nosokomeio-paidwn\", \n",
    "    \"athhna-plateia-amerikhs\",\n",
    "    \"vyrwnas\",\n",
    "    \"zwgrafoy-kentro\",\n",
    "    \"nosokomeio-paidwn\",\n",
    "    \"athhna-koyntoyriwtika\",\n",
    "    \"athhna-kynosargoys\",\n",
    "    \"galatsi\",\n",
    "    \"porto-rafth\",\n",
    "    \"pagkrati\",\n",
    "    \"ippokratoys\",\n",
    "    \"ilion\",\n",
    "    \"liosia\",\n",
    "    \"keratsini\"\n",
    "    ]"
   ]
  },
  {
   "cell_type": "code",
   "execution_count": 235,
   "id": "2ca1270e",
   "metadata": {
    "pycharm": {
     "name": "#%%\n"
    }
   },
   "outputs": [
    {
     "data": {
      "text/plain": [
       "['nosokomeio-paidwn',\n",
       " 'athhna-plateia-amerikhs',\n",
       " 'vyrwnas',\n",
       " 'zwgrafoy-kentro',\n",
       " 'athhna-koyntoyriwtika',\n",
       " 'athhna-kynosargoys',\n",
       " 'galatsi',\n",
       " 'porto-rafth',\n",
       " 'pagkrati',\n",
       " 'ippokratoys',\n",
       " 'ilion',\n",
       " 'liosia',\n",
       " 'keratsini']"
      ]
     },
     "execution_count": 235,
     "metadata": {},
     "output_type": "execute_result"
    }
   ],
   "source": [
    "blacklist_areas = unique(blacklist_areas)\n",
    "blacklist_areas"
   ]
  },
  {
   "cell_type": "code",
   "execution_count": 236,
   "id": "3d4cad05",
   "metadata": {
    "pycharm": {
     "name": "#%%\n"
    }
   },
   "outputs": [],
   "source": [
    "def filter_blacklisted_areas(urls, blacklist_areas):\n",
    "    # Filters based on blacklisted areas\n",
    "        \n",
    "    for url in urls:\n",
    "        for area in blacklist_areas:\n",
    "            if area in url:\n",
    "                urls.remove(url)\n",
    "                break # if blacklisted break the loop\n",
    "    return urls"
   ]
  },
  {
   "cell_type": "code",
   "execution_count": 237,
   "id": "f63467ea",
   "metadata": {
    "pycharm": {
     "name": "#%%\n"
    }
   },
   "outputs": [],
   "source": [
    "cleaned_urls= filter_blacklisted_areas(uniq_urls, blacklist_areas)"
   ]
  },
  {
   "cell_type": "code",
   "execution_count": 238,
   "id": "e8b135d6",
   "metadata": {
    "pycharm": {
     "name": "#%%\n"
    }
   },
   "outputs": [
    {
     "name": "stdout",
     "output_type": "stream",
     "text": [
      "32\n"
     ]
    }
   ],
   "source": [
    "print(len(cleaned_urls))"
   ]
  },
  {
   "cell_type": "code",
   "execution_count": 239,
   "id": "d1e38532",
   "metadata": {
    "pycharm": {
     "name": "#%%\n"
    }
   },
   "outputs": [],
   "source": [
    "class Home:\n",
    "    def __init__(self, property_url):\n",
    "        self.property_url = property_url\n",
    "        self.property_id = -1\n",
    "        self.bedroom = -1\n",
    "        self.bathroom = -1\n",
    "        self.floor = -1\n",
    "        self.house_reconstruction = 0\n",
    "        self.building_space = \"NA\"\n",
    "        self.compass = \"NA\"\n",
    "        self.title = \"NA\"\n",
    "        self.price = -1\n",
    "        self.door = False\n",
    "        self.canopy = False\n",
    "        self.heating = \"NA\"\n",
    "        self.is_estate = True\n",
    "        self.description = \"NA\"\n",
    "        self.has_oil = False\n",
    "        self.rejected = True\n",
    "        \n",
    "    def set_property_id(self):\n",
    "        self.property_id = self.property_url.split('/')[6]\n",
    "        \n",
    "    def house_print_info(self):\n",
    "        print(f'Ηλεκτρονική Διεύθυνση: {self.property_url}')\n",
    "        print(f'Αναγνωριστικό: {self.property_id}')\n",
    "        print(f'Υπνοδωμάτια: {self.bedroom}')\n",
    "        print(f'Μπάνια: {self.bathroom}')\n",
    "        print(f'Όροφος: {self.floor}')\n",
    "        print(f'Έτος ανακαίνισης: {self.house_reconstruction}')\n",
    "        print(f'Κατάσταση: {self.building_space}')\n",
    "        print(f'Προσανατολισμός: {self.compass}')\n",
    "        print(f'Τίτλος: {self.title}')\n",
    "        print(f'Τιμή: {self.price}')\n",
    "        print(f'Πόρτα ασφαλείας: {self.door}')\n",
    "        print(f'Τέντες: {self.canopy}')\n",
    "        print(f'Θέρμανση: {self.heating}')\n",
    "        print(f'Μεσίτης: {self.is_estate}')\n",
    "        print(f'Περιγραφή: {self.description}')\n",
    "        print(f'Πετρέλαιο: {self.has_oil}')\n",
    "\n",
    "\n",
    "    def set_house_info(self, soup_html, soup_lxml):\n",
    "        \n",
    "        if search(self.text, \"Υπνοδωμάτια:\"):\n",
    "            self.bedroom = int( self.text[self.text.index(\"Υπνοδωμάτια:\") + 2].text )\n",
    "\n",
    "        if search(self.text, \"Μπάνια:\"):\n",
    "            self.bathroom = int( self.text[self.text.index(\"Μπάνια:\") + 2].text )\n",
    "\n",
    "        floor_data = self.text[self.text.index(\"Όροφος:\") + 2].text\n",
    "        if type(floor_data) == list and len(floor_data) > 1:\n",
    "            floor_data = floor_data[0]\n",
    "        if (floor_data == 'Ισόγειο') or (floor_data == 'Υπερυψωμένο, Ισόγειο') or (floor_data == 'Υπερυψωμένο'):\n",
    "            self.floor = 0\n",
    "        elif floor_data == 'Ημιώροφος':\n",
    "            self.floor = 1 / 2\n",
    "        elif floor_data == 'Ημιυπόγειο':\n",
    "            self.floor = -1 / 2\n",
    "        elif 'Ισόγειο, Ημιυπόγειο':\n",
    "            self.floor = -1 / 2\n",
    "        else:\n",
    "            digits = re.findall(r'\\d+', floor_data)\n",
    "            if type(digits) == list and len(digits) > 0:\n",
    "                digits = digits[0]\n",
    "            self.floor = int(str(digits))\n",
    "\n",
    "        if search(self.text, \"Έτος ανακαίνισης:\"):\n",
    "            self.house_reconstruction = int(self.text[self.text.index(\"Έτος ανακαίνισης:\") + 2].text)\n",
    "\n",
    "        if search(self.text, \"Κατάσταση:\"):\n",
    "            self.building_space = self.text[self.text.index(\"Κατάσταση:\") + 2].text\n",
    "\n",
    "        if search(self.text, \"Προσανατολισμός:\"):\n",
    "            self.compass = self.text[self.text.index(\"Προσανατολισμός:\") + 2].text\n",
    "\n",
    "        self.title = soup_lxml.title.string\n",
    "        self.price = int (re.findall(r'\\d+', soup_lxml.find(class_='price').h2.text)[0])\n",
    "        self.door = search(self.text, \"Πόρτα ασφαλείας\")\n",
    "        self.canopy = search(self.text, \"Τέντες\")\n",
    "\n",
    "        if search(self.text, \"Θέρμανση:\"):\n",
    "            self.heating = self.text[self.text.index(\"Θέρμανση:\") + 2].text\n",
    "        \n",
    "        if self.title.find('Ιδιώτης') != -1:\n",
    "            self.is_estate = False\n",
    "        elif len(soup_html.find_all(\"h2\", {\"class\": \"title\"})) == 0:\n",
    "            self.is_estate = True\n",
    "        \n",
    "\n",
    "        if self.description:\n",
    "            if ((self.description.find('πετρέλαιο') != -1) or (self.description.find('πετρελαίου') != -1)):\n",
    "                self.has_oil = True\n",
    "        if search(self.text, \"Μέσο θέρμανσης:\"):\n",
    "            self.heating = self.text[self.text.index(\"Μέσο θέρμανσης:\") + 2].text\n",
    "            if self.heating == \"Πετρέλαιο\" or self.heating == \"πετρελαίου\":\n",
    "                self.has_oil = True\n",
    "            \n",
    "    def set_text(self, soup_html):\n",
    "        parent = soup_html.find(\"body\").find(\"ul\")  # finding parent <ul> tag\n",
    "        self.text = list(parent.descendants)  # finding all <li> tags\n",
    "        \n",
    "    def validate(self):\n",
    "        if not self.has_oil and not self.is_estate:\n",
    "            self.rejected = False"
   ]
  },
  {
   "cell_type": "code",
   "execution_count": 240,
   "id": "0331d996",
   "metadata": {
    "pycharm": {
     "name": "#%%\n"
    }
   },
   "outputs": [],
   "source": [
    "def make_homes(urls):\n",
    "    Homes = []\n",
    "\n",
    "    for i in range(0, len(urls)):\n",
    "        Homes.append(Home(urls[i]))\n",
    "        Homes[i].set_property_id()\n",
    "    \n",
    "    return Homes"
   ]
  },
  {
   "cell_type": "code",
   "execution_count": 241,
   "id": "c0ac037d",
   "metadata": {
    "pycharm": {
     "name": "#%%\n"
    }
   },
   "outputs": [
    {
     "data": {
      "text/plain": [
       "32"
      ]
     },
     "execution_count": 241,
     "metadata": {},
     "output_type": "execute_result"
    }
   ],
   "source": [
    "Homes = make_homes(cleaned_urls)\n",
    "len(Homes)"
   ]
  },
  {
   "cell_type": "code",
   "execution_count": 242,
   "id": "a808085b",
   "metadata": {
    "pycharm": {
     "name": "#%%\n"
    }
   },
   "outputs": [
    {
     "name": "stdout",
     "output_type": "stream",
     "text": [
      "786199120\n",
      "https://www.xe.gr/property/d/enoikiaseis-katoikion/786199120/karellas-580-95?first_in_widget_ad_id=786199247&rank_in_widget=4&widget_name=search+results+list\n"
     ]
    }
   ],
   "source": [
    "print(Homes[3].property_id)\n",
    "print(Homes[3].property_url)"
   ]
  },
  {
   "cell_type": "code",
   "execution_count": 243,
   "id": "a8ba2d25",
   "metadata": {
    "pycharm": {
     "name": "#%%\n"
    }
   },
   "outputs": [],
   "source": [
    "def get_soup_objects(url):\n",
    "    \n",
    "    # creating requests object\n",
    "    html = requests.get(url).content\n",
    "        \n",
    "    # creating soup objects\n",
    "    soup_html = bs(html, 'html.parser')\n",
    "    soup_lxml = bs(html, 'lxml')\n",
    "    \n",
    "    return [soup_html, soup_lxml]"
   ]
  },
  {
   "cell_type": "code",
   "execution_count": 244,
   "id": "ff9ae44f",
   "metadata": {
    "pycharm": {
     "name": "#%%\n"
    }
   },
   "outputs": [],
   "source": [
    "def parse_and_filter_homes():\n",
    "    selected_houses = []\n",
    "    selected = False\n",
    "    \n",
    "    for h in Homes:\n",
    "        delay = randint(1,5)\n",
    "        print(f'\\nProcessing house with id: {h.property_id} {h.property_url} (sleeping for {delay} seconds)')\n",
    "        sleep(delay)\n",
    "        \n",
    "        [soup_html, soup_lxml] = get_soup_objects(h.property_url)\n",
    "        \n",
    "        # find tags and set text\n",
    "        h.set_text(soup_html) \n",
    "        \n",
    "        h.set_house_info(soup_html, soup_lxml)\n",
    "        \n",
    "        h.validate()\n",
    "        \n",
    "        if not h.rejected:\n",
    "            h.house_print_info()\n",
    "            selected_houses.append(h)\n",
    "            print(f'This house matches out criteria!')\n",
    "            print(f'Addind it to our database...')\n",
    "            print(f'Informing you via email...')\n",
    "        else:\n",
    "            print(f'{h.property_id} has been rejected')\n",
    "        \n",
    "    \n",
    "    return selected_houses"
   ]
  },
  {
   "cell_type": "code",
   "execution_count": 245,
   "id": "7f2eb3da",
   "metadata": {
    "pycharm": {
     "name": "#%%\n"
    }
   },
   "outputs": [
    {
     "name": "stdout",
     "output_type": "stream",
     "text": [
      "\n",
      "Processing house with id: 786199247 https://www.xe.gr/property/d/enoikiaseis-katoikion/786199247/athhna-ghrokomeio-670-67?first_in_widget_ad_id=786199247&rank_in_widget=1&widget_name=search+results+list (sleeping for 2 seconds)\n",
      "786199247 has been rejected\n",
      "\n",
      "Processing house with id: 786199223 https://www.xe.gr/property/d/enoikiaseis-katoikion/786199223/zwgrafoy-ilisia-850-110?first_in_widget_ad_id=786199247&rank_in_widget=2&widget_name=search+results+list (sleeping for 3 seconds)\n",
      "786199223 has been rejected\n",
      "\n",
      "Processing house with id: 786199203 https://www.xe.gr/property/d/enoikiaseis-katoikion/786199203/nikaia-neapolh-650-95?first_in_widget_ad_id=786199247&rank_in_widget=3&widget_name=search+results+list (sleeping for 4 seconds)\n",
      "786199203 has been rejected\n",
      "\n",
      "Processing house with id: 786199120 https://www.xe.gr/property/d/enoikiaseis-katoikion/786199120/karellas-580-95?first_in_widget_ad_id=786199247&rank_in_widget=4&widget_name=search+results+list (sleeping for 2 seconds)\n",
      "786199120 has been rejected\n",
      "\n",
      "Processing house with id: 786198939 https://www.xe.gr/property/d/enoikiaseis-katoikion/786198939/maroysi-alsos-kthmatos-syggroy-850-90?first_in_widget_ad_id=786199247&rank_in_widget=5&widget_name=search+results+list (sleeping for 1 seconds)\n",
      "786198939 has been rejected\n",
      "\n",
      "Processing house with id: 786198931 https://www.xe.gr/property/d/enoikiaseis-katoikion/786198931/athhna-sepolia-600-86?first_in_widget_ad_id=786199247&rank_in_widget=6&widget_name=search+results+list (sleeping for 2 seconds)\n",
      "Ηλεκτρονική Διεύθυνση: https://www.xe.gr/property/d/enoikiaseis-katoikion/786198931/athhna-sepolia-600-86?first_in_widget_ad_id=786199247&rank_in_widget=6&widget_name=search+results+list\n",
      "Αναγνωριστικό: 786198931\n",
      "Υπνοδωμάτια: 2\n",
      "Μπάνια: 2\n",
      "Όροφος: -0.5\n",
      "Έτος ανακαίνισης: 0\n",
      "Κατάσταση: Καλή\n",
      "Προσανατολισμός: Γωνιακό\n",
      "Τίτλος: \n",
      "  Διαμέρισμα προς ενοικίαση 86 τ.μ. Αθήνα (Σεπόλια) (Ιδιώτης) | xe.gr\n",
      "\n",
      "Τιμή: 600\n",
      "Πόρτα ασφαλείας: True\n",
      "Τέντες: False\n",
      "Θέρμανση: Αυτόνομη θέρμανση με κεντρική εγκατάσταση\n",
      "Μεσίτης: False\n",
      "Περιγραφή: NA\n",
      "Πετρέλαιο: False\n",
      "This house matches out criteria!\n",
      "Addind it to our database...\n",
      "Informing you via email...\n",
      "\n",
      "Processing house with id: 786198290 https://www.xe.gr/property/d/enoikiaseis-katoikion/786198290/vrilhssia-kentro-950-105?first_in_widget_ad_id=786199247&rank_in_widget=7&widget_name=search+results+list (sleeping for 3 seconds)\n",
      "Ηλεκτρονική Διεύθυνση: https://www.xe.gr/property/d/enoikiaseis-katoikion/786198290/vrilhssia-kentro-950-105?first_in_widget_ad_id=786199247&rank_in_widget=7&widget_name=search+results+list\n",
      "Αναγνωριστικό: 786198290\n",
      "Υπνοδωμάτια: 2\n",
      "Μπάνια: 1\n",
      "Όροφος: -0.5\n",
      "Έτος ανακαίνισης: 0\n",
      "Κατάσταση: Ανακαινισμένο\n",
      "Προσανατολισμός: NA\n",
      "Τίτλος: \n",
      "  Διαμέρισμα προς ενοικίαση 105 τ.μ. Βριλήσσια (Κέντρο) (Ιδιώτης) | xe.gr\n",
      "\n",
      "Τιμή: 950\n",
      "Πόρτα ασφαλείας: False\n",
      "Τέντες: False\n",
      "Θέρμανση: NA\n",
      "Μεσίτης: False\n",
      "Περιγραφή: NA\n",
      "Πετρέλαιο: False\n",
      "This house matches out criteria!\n",
      "Addind it to our database...\n",
      "Informing you via email...\n",
      "\n",
      "Processing house with id: 784159921 https://www.xe.gr/property/d/enoikiaseis-katoikion/784159921/nea-iwnia-perissos-550-57?first_in_widget_ad_id=786199247&rank_in_widget=8&widget_name=search+results+list (sleeping for 5 seconds)\n",
      "Ηλεκτρονική Διεύθυνση: https://www.xe.gr/property/d/enoikiaseis-katoikion/784159921/nea-iwnia-perissos-550-57?first_in_widget_ad_id=786199247&rank_in_widget=8&widget_name=search+results+list\n",
      "Αναγνωριστικό: 784159921\n",
      "Υπνοδωμάτια: 1\n",
      "Μπάνια: 1\n",
      "Όροφος: -0.5\n",
      "Έτος ανακαίνισης: 0\n",
      "Κατάσταση: Καλή\n",
      "Προσανατολισμός: Διαμπερές, Γωνιακό\n",
      "Τίτλος: \n",
      "  Διαμέρισμα προς ενοικίαση 57 τ.μ. Νέα Ιωνία (Περισσός) (Ιδιώτης) | xe.gr\n",
      "\n",
      "Τιμή: 550\n",
      "Πόρτα ασφαλείας: True\n",
      "Τέντες: True\n",
      "Θέρμανση: Αυτόνομη θέρμανση με κεντρική εγκατάσταση\n",
      "Μεσίτης: False\n",
      "Περιγραφή: NA\n",
      "Πετρέλαιο: False\n",
      "This house matches out criteria!\n",
      "Addind it to our database...\n",
      "Informing you via email...\n",
      "\n",
      "Processing house with id: 786197771 https://www.xe.gr/property/d/enoikiaseis-katoikion/786197771/athhna-koykaki-750-69?first_in_widget_ad_id=786199247&rank_in_widget=9&widget_name=search+results+list (sleeping for 5 seconds)\n",
      "786197771 has been rejected\n",
      "\n",
      "Processing house with id: 786197631 https://www.xe.gr/property/d/enoikiaseis-katoikion/786197631/glyfada-kentro-800-70?first_in_widget_ad_id=786199247&rank_in_widget=10&widget_name=search+results+list (sleeping for 1 seconds)\n",
      "786197631 has been rejected\n",
      "\n",
      "Processing house with id: 786197598 https://www.xe.gr/property/d/enoikiaseis-katoikion/786197598/athhna-agios-pantelehmonas-650-100?first_in_widget_ad_id=786199247&rank_in_widget=11&widget_name=search+results+list (sleeping for 5 seconds)\n",
      "786197598 has been rejected\n",
      "\n",
      "Processing house with id: 578717585 https://www.xe.gr/property/d/enoikiaseis-katoikion/578717585/maroysi-psalidi-530-58?first_in_widget_ad_id=786199247&rank_in_widget=12&widget_name=search+results+list (sleeping for 1 seconds)\n",
      "578717585 has been rejected\n",
      "\n",
      "Processing house with id: 785519948 https://www.xe.gr/property/d/enoikiaseis-katoikion/785519948/hlioypolh-agia-marina-800-105?first_in_widget_ad_id=786199247&rank_in_widget=13&widget_name=search+results+list (sleeping for 4 seconds)\n",
      "785519948 has been rejected\n",
      "\n",
      "Processing house with id: 786197386 https://www.xe.gr/property/d/enoikiaseis-katoikion/786197386/athhna-exarcheia-800-147?first_in_widget_ad_id=786199247&rank_in_widget=14&widget_name=search+results+list (sleeping for 5 seconds)\n",
      "786197386 has been rejected\n",
      "\n",
      "Processing house with id: 609886744 https://www.xe.gr/property/d/enoikiaseis-katoikion/609886744/nikaia-nekrotafeio-430-69?first_in_widget_ad_id=786199247&rank_in_widget=15&widget_name=search+results+list (sleeping for 5 seconds)\n",
      "Ηλεκτρονική Διεύθυνση: https://www.xe.gr/property/d/enoikiaseis-katoikion/609886744/nikaia-nekrotafeio-430-69?first_in_widget_ad_id=786199247&rank_in_widget=15&widget_name=search+results+list\n",
      "Αναγνωριστικό: 609886744\n",
      "Υπνοδωμάτια: 2\n",
      "Μπάνια: 1\n",
      "Όροφος: -0.5\n",
      "Έτος ανακαίνισης: 0\n",
      "Κατάσταση: Ανακαινισμένο\n",
      "Προσανατολισμός: NA\n",
      "Τίτλος: \n",
      "  Διαμέρισμα προς ενοικίαση 69 τ.μ. Νίκαια (Νεκροταφείο) (Ιδιώτης) | xe.gr\n",
      "\n",
      "Τιμή: 430\n",
      "Πόρτα ασφαλείας: True\n",
      "Τέντες: False\n",
      "Θέρμανση: Φυσικό αέριο\n",
      "Μεσίτης: False\n",
      "Περιγραφή: NA\n",
      "Πετρέλαιο: False\n",
      "This house matches out criteria!\n",
      "Addind it to our database...\n",
      "Informing you via email...\n",
      "\n",
      "Processing house with id: 785009618 https://www.xe.gr/property/d/enoikiaseis-katoikion/785009618/chalandri-kontopeyko-890-90?first_in_widget_ad_id=786199247&rank_in_widget=16&widget_name=search+results+list (sleeping for 5 seconds)\n",
      "785009618 has been rejected\n",
      "\n",
      "Processing house with id: 786070757 https://www.xe.gr/property/d/enoikiaseis-katoikion/786070757/nea-chalkhdona-kentro-700-100?first_in_widget_ad_id=786199247&rank_in_widget=17&widget_name=search+results+list (sleeping for 2 seconds)\n",
      "786070757 has been rejected\n",
      "\n",
      "Processing house with id: 786197008 https://www.xe.gr/property/d/enoikiaseis-katoikion/786197008/nea-smyrnh-kentro-650-61?first_in_widget_ad_id=786199247&rank_in_widget=18&widget_name=search+results+list (sleeping for 4 seconds)\n",
      "786197008 has been rejected\n",
      "\n",
      "Processing house with id: 786196713 https://www.xe.gr/property/d/enoikiaseis-katoikion/786196713/peiraias-eyaggelistria-599-80?first_in_widget_ad_id=786199247&rank_in_widget=19&widget_name=search+results+list (sleeping for 4 seconds)\n",
      "786196713 has been rejected\n",
      "\n",
      "Processing house with id: 786196704 https://www.xe.gr/property/d/enoikiaseis-katoikion/786196704/nea-iwnia-saframpolh-490-74?first_in_widget_ad_id=786199247&rank_in_widget=20&widget_name=search+results+list (sleeping for 4 seconds)\n",
      "786196704 has been rejected\n",
      "\n",
      "Processing house with id: 785465122 https://www.xe.gr/property/d/enoikiaseis-katoikion/785465122/dafnh-attikhs-agios-dionysios-630-100?first_in_widget_ad_id=786199247&rank_in_widget=22&widget_name=search+results+list (sleeping for 3 seconds)\n",
      "Ηλεκτρονική Διεύθυνση: https://www.xe.gr/property/d/enoikiaseis-katoikion/785465122/dafnh-attikhs-agios-dionysios-630-100?first_in_widget_ad_id=786199247&rank_in_widget=22&widget_name=search+results+list\n",
      "Αναγνωριστικό: 785465122\n",
      "Υπνοδωμάτια: 2\n",
      "Μπάνια: 1\n",
      "Όροφος: -0.5\n",
      "Έτος ανακαίνισης: 2018\n",
      "Κατάσταση: Ανακαινισμένο\n",
      "Προσανατολισμός: Διαμπερές\n",
      "Τίτλος: \n",
      "  Διαμέρισμα προς ενοικίαση 100 τ.μ. Δάφνη Αττικής (Άγιος Διονύσιος) (Ιδιώτης) | xe.gr\n",
      "\n",
      "Τιμή: 630\n",
      "Πόρτα ασφαλείας: True\n",
      "Τέντες: False\n",
      "Θέρμανση: Αυτόνομη θέρμανση με κεντρική εγκατάσταση\n",
      "Μεσίτης: False\n",
      "Περιγραφή: NA\n",
      "Πετρέλαιο: False\n",
      "This house matches out criteria!\n",
      "Addind it to our database...\n",
      "Informing you via email...\n",
      "\n",
      "Processing house with id: 786196409 https://www.xe.gr/property/d/enoikiaseis-katoikion/786196409/nea-smyrnh-kentro-950-103?first_in_widget_ad_id=786199247&rank_in_widget=23&widget_name=search+results+list (sleeping for 4 seconds)\n"
     ]
    },
    {
     "name": "stdout",
     "output_type": "stream",
     "text": [
      "786196409 has been rejected\n",
      "\n",
      "Processing house with id: 786196405 https://www.xe.gr/property/d/enoikiaseis-katoikion/786196405/peiraias-freattyda-750-93?first_in_widget_ad_id=786199247&rank_in_widget=24&widget_name=search+results+list (sleeping for 3 seconds)\n",
      "786196405 has been rejected\n",
      "\n",
      "Processing house with id: 786196392 https://www.xe.gr/property/d/enoikiaseis-katoikion/786196392/nikaia-neapolh-660-85?first_in_widget_ad_id=786199247&rank_in_widget=25&widget_name=search+results+list (sleeping for 2 seconds)\n",
      "786196392 has been rejected\n",
      "\n",
      "Processing house with id: 786196368 https://www.xe.gr/property/d/enoikiaseis-katoikion/786196368/korydallos-nekrotafeio-nikaias-799-93?first_in_widget_ad_id=786199247&rank_in_widget=26&widget_name=search+results+list (sleeping for 2 seconds)\n",
      "786196368 has been rejected\n",
      "\n",
      "Processing house with id: 786196254 https://www.xe.gr/property/d/enoikiaseis-katoikion/786196254/korydallos-nekrotafeio-nikaias-699-75?first_in_widget_ad_id=786199247&rank_in_widget=27&widget_name=search+results+list (sleeping for 1 seconds)\n",
      "786196254 has been rejected\n",
      "\n",
      "Processing house with id: 786196243 https://www.xe.gr/property/d/enoikiaseis-katoikion/786196243/korydallos-orio-agias-varvaras-390-58?first_in_widget_ad_id=786199247&rank_in_widget=28&widget_name=search+results+list (sleeping for 1 seconds)\n",
      "786196243 has been rejected\n",
      "\n",
      "Processing house with id: 786196192 https://www.xe.gr/property/d/enoikiaseis-katoikion/786196192/nea-smyrnh-alsos-950-103?first_in_widget_ad_id=786199247&rank_in_widget=29&widget_name=search+results+list (sleeping for 2 seconds)\n",
      "786196192 has been rejected\n",
      "\n",
      "Processing house with id: 785954606 https://www.xe.gr/property/d/enoikiaseis-katoikion/785954606/athhna-anw-petralwna-450-67?first_in_widget_ad_id=786199247&rank_in_widget=30&widget_name=search+results+list (sleeping for 1 seconds)\n",
      "785954606 has been rejected\n",
      "\n",
      "Processing house with id: 786196101 https://www.xe.gr/property/d/enoikiaseis-katoikion/786196101/perama-kentro-480-75?first_in_widget_ad_id=786199247&rank_in_widget=31&widget_name=search+results+list (sleeping for 1 seconds)\n",
      "786196101 has been rejected\n",
      "\n",
      "Processing house with id: 786195891 https://www.xe.gr/property/d/enoikiaseis-katoikion/786195891/korydallos-plateia-eleytherias-499-85?first_in_widget_ad_id=786199247&rank_in_widget=33&widget_name=search+results+list (sleeping for 1 seconds)\n",
      "786195891 has been rejected\n",
      "\n",
      "Processing house with id: 786195735 https://www.xe.gr/property/d/enoikiaseis-katoikion/786195735/korydallos-plateia-eleytherias-499-75?first_in_widget_ad_id=786199247&rank_in_widget=34&widget_name=search+results+list (sleeping for 4 seconds)\n",
      "786195735 has been rejected\n"
     ]
    }
   ],
   "source": [
    "selected_houses = parse_and_filter_homes()"
   ]
  },
  {
   "cell_type": "code",
   "execution_count": 246,
   "id": "b81b112a",
   "metadata": {},
   "outputs": [],
   "source": [
    "h = selected_houses[1]"
   ]
  },
  {
   "cell_type": "code",
   "execution_count": 249,
   "id": "9ecbda98",
   "metadata": {
    "pycharm": {
     "name": "#%%\n"
    }
   },
   "outputs": [],
   "source": [
    "def insert_variables_into_table(property_id, property_url, bedroom, bathroom, floor, house_reconstruction,\n",
    "                                building_space, compass, title, price, door, canopy, heating, description, has_oil):\n",
    "    connection = None\n",
    "    try:\n",
    "        # In MySQL 8.0, caching_sha2_password is the default authentication plugin rather than mysql_native_password.\n",
    "        connection = mysql.connector.connect(host='localhost',\n",
    "                                             database='xedb',\n",
    "                                             user='root',\n",
    "                                             password='dxcfvgbhnjm4567ctfvghj&*(klYFlCnmPzyfvgbh',\n",
    "                                             auth_plugin='mysql_native_password')\n",
    "        cursor = connection.cursor()\n",
    "        mySql_insert_query = \"\"\"INSERT INTO homes (property_id, property_url, bedroom, bathroom, floor, \n",
    "                                    house_reconstruction, building_space, compass, title, price, door, canopy, heating,\n",
    "                                    description, has_oil) \n",
    "                                VALUES (%s, %s, %s, %s, %s, %s, %s, %s, %s, %s, %s, %s, %s, %s, %s) \"\"\"\n",
    "\n",
    "        record = (property_id, property_url, bedroom, bathroom, floor, house_reconstruction, building_space, compass,\n",
    "                  title, price, door, canopy, heating, description, has_oil)\n",
    "        cursor.execute(mySql_insert_query, record)\n",
    "        connection.commit()\n",
    "        print(\"Record inserted successfully into homes table\")\n",
    "\n",
    "    except mysql.connector.Error as error:\n",
    "        print(\"Failed to insert into MySQL table {}\".format(error))\n",
    "\n",
    "    finally:\n",
    "        if connection and connection.is_connected():\n",
    "            cursor.close()\n",
    "            connection.close()\n",
    "            print(\"MySQL connection is closed\")\n",
    "\n"
   ]
  },
  {
   "cell_type": "code",
   "execution_count": 268,
   "id": "1d82bbcd",
   "metadata": {},
   "outputs": [
    {
     "name": "stdout",
     "output_type": "stream",
     "text": [
      "Record inserted successfully into homes table\n",
      "MySQL connection is closed\n"
     ]
    }
   ],
   "source": [
    "insert_variables_into_table(h.property_id, h.property_url, h.bedroom, h.bathroom, h.floor, h.house_reconstruction,\n",
    "                                h.building_space, h.compass, h.title, h.price, h.door, h.canopy, h.heating, h.description, h.has_oil)"
   ]
  },
  {
   "cell_type": "code",
   "execution_count": 223,
   "id": "3292e1df",
   "metadata": {},
   "outputs": [
    {
     "data": {
      "text/plain": [
       "'https://www.xe.gr/property/d/enoikiaseis-katoikion/784159921/nea-iwnia-perissos-550-57?first_in_widget_ad_id=786198290&rank_in_widget=2&widget_name=search+results+list'"
      ]
     },
     "execution_count": 223,
     "metadata": {},
     "output_type": "execute_result"
    }
   ],
   "source": [
    "h.property_url"
   ]
  },
  {
   "cell_type": "code",
   "execution_count": 224,
   "id": "cadb52a9",
   "metadata": {},
   "outputs": [],
   "source": [
    "query=\"SELECT * FROM `homes` WHERE property_id = '786192763'\""
   ]
  },
  {
   "cell_type": "code",
   "execution_count": 260,
   "id": "6dad43e7",
   "metadata": {},
   "outputs": [],
   "source": [
    "def db_house_exists(property_id):\n",
    "    connection = None\n",
    "    try:\n",
    "        # In MySQL 8.0, caching_sha2_password is the default authentication plugin rather than mysql_native_password.\n",
    "        connection = mysql.connector.connect(host='localhost',\n",
    "                                             database='xedb',\n",
    "                                             user='root',\n",
    "                                             password='dxcfvgbhnjm4567ctfvghj&*(klYFlCnmPzyfvgbh',\n",
    "                                             auth_plugin='mysql_native_password')\n",
    "        cursor = connection.cursor()\n",
    "        query=\"SELECT * FROM `homes` WHERE property_id = 785465122\"\n",
    "\n",
    "        cursor.execute(query) #, (property_id))\n",
    "        \n",
    "        print(cursor)\n",
    "\n",
    "        for (property_id, property_url, bedroom, bathroom, floor, house_reconstruction,\n",
    "             building_space, compass, title, price, door, canopy, \n",
    "             heating, description, has_oil) in cursor:\n",
    "            print(f'{property_id} exists in db home table homes')\n",
    "    except mysql.connector.Error as error:\n",
    "        print(\"Failed to query MySQL table {}\".format(error))\n",
    "        \n",
    "    finally:\n",
    "        if connection and connection.is_connected():\n",
    "            cursor.close()\n",
    "            connection.close()\n",
    "            print(\"MySQL connection is closed\")"
   ]
  },
  {
   "cell_type": "code",
   "execution_count": 277,
   "id": "4ca885f3",
   "metadata": {},
   "outputs": [],
   "source": [
    "connection = mysql.connector.connect(host='localhost',\n",
    "                                     database='xedb',\n",
    "                                     user='root',\n",
    "                                     password='dxcfvgbhnjm4567ctfvghj&*(klYFlCnmPzyfvgbh',\n",
    "                                     auth_plugin='mysql_native_password')\n",
    "cursor = connection.cursor()\n",
    "\n",
    "query=f'SELECT property_id FROM `homes` WHERE property_id = {h.property_id}'\n",
    "\n",
    "res = cursor.execute(query)\n",
    "    \n",
    "#print(cursor)\n",
    "\n",
    "#for (property_id, property_url, bedroom, bathroom, floor, house_reconstruction,\n",
    "#     building_space, compass, title, price, door, canopy, \n",
    "#     heating, description, has_oil) in cursor:\n",
    "    \n",
    "#    print(f'{property_id} exists in db home table homes')\n",
    "\n",
    "cursor.fetchone()\n",
    "#for property_id in cursor:\n",
    "#    print(f'{property_id} exists in db')\n",
    "\n",
    "cursor.close()\n",
    "connection.close()"
   ]
  },
  {
   "cell_type": "code",
   "execution_count": 269,
   "id": "16a9bf8b",
   "metadata": {},
   "outputs": [
    {
     "name": "stdout",
     "output_type": "stream",
     "text": [
      "Failed to insert into MySQL table 1062 (23000): Duplicate entry '786198290' for key 'PRIMARY'\n",
      "MySQL connection is closed\n",
      "Failed to insert into MySQL table 1062 (23000): Duplicate entry '786198290' for key 'PRIMARY'\n",
      "MySQL connection is closed\n",
      "Failed to insert into MySQL table 1062 (23000): Duplicate entry '786198290' for key 'PRIMARY'\n",
      "MySQL connection is closed\n",
      "Failed to insert into MySQL table 1062 (23000): Duplicate entry '786198290' for key 'PRIMARY'\n",
      "MySQL connection is closed\n",
      "Failed to insert into MySQL table 1062 (23000): Duplicate entry '786198290' for key 'PRIMARY'\n",
      "MySQL connection is closed\n"
     ]
    }
   ],
   "source": [
    "for hs in selected_houses:\n",
    "    insert_variables_into_table(h.property_id, h.property_url, h.bedroom, h.bathroom, h.floor, \n",
    "                                h.house_reconstruction, h.building_space, h.compass, h.title, \n",
    "                                h.price, h.door, h.canopy, h.heating, h.description, h.has_oil\n",
    "                               )"
   ]
  },
  {
   "cell_type": "code",
   "execution_count": 251,
   "id": "bc42ae3a",
   "metadata": {},
   "outputs": [
    {
     "name": "stdout",
     "output_type": "stream",
     "text": [
      "MySQL connection is closed\n"
     ]
    },
    {
     "ename": "ValueError",
     "evalue": "Could not process parameters",
     "output_type": "error",
     "traceback": [
      "\u001b[0;31m---------------------------------------------------------------------------\u001b[0m",
      "\u001b[0;31mValueError\u001b[0m                                Traceback (most recent call last)",
      "\u001b[0;32m<ipython-input-251-0f0237661126>\u001b[0m in \u001b[0;36m<module>\u001b[0;34m\u001b[0m\n\u001b[0;32m----> 1\u001b[0;31m \u001b[0mdb_house_exists\u001b[0m\u001b[0;34m(\u001b[0m\u001b[0mh\u001b[0m\u001b[0;34m.\u001b[0m\u001b[0mproperty_id\u001b[0m\u001b[0;34m)\u001b[0m\u001b[0;34m\u001b[0m\u001b[0;34m\u001b[0m\u001b[0m\n\u001b[0m",
      "\u001b[0;32m<ipython-input-250-b6dd77a376aa>\u001b[0m in \u001b[0;36mdb_house_exists\u001b[0;34m(property_id)\u001b[0m\n\u001b[1;32m     11\u001b[0m         \u001b[0mquery\u001b[0m\u001b[0;34m=\u001b[0m\u001b[0;34m\"SELECT * FROM `homes` WHERE property_id = %s\"\u001b[0m\u001b[0;34m\u001b[0m\u001b[0;34m\u001b[0m\u001b[0m\n\u001b[1;32m     12\u001b[0m \u001b[0;34m\u001b[0m\u001b[0m\n\u001b[0;32m---> 13\u001b[0;31m         \u001b[0mcursor\u001b[0m\u001b[0;34m.\u001b[0m\u001b[0mexecute\u001b[0m\u001b[0;34m(\u001b[0m\u001b[0mquery\u001b[0m\u001b[0;34m,\u001b[0m \u001b[0;34m(\u001b[0m\u001b[0mproperty_id\u001b[0m\u001b[0;34m)\u001b[0m\u001b[0;34m)\u001b[0m\u001b[0;34m\u001b[0m\u001b[0;34m\u001b[0m\u001b[0m\n\u001b[0m\u001b[1;32m     14\u001b[0m \u001b[0;34m\u001b[0m\u001b[0m\n\u001b[1;32m     15\u001b[0m         \u001b[0mprint\u001b[0m\u001b[0;34m(\u001b[0m\u001b[0mcursor\u001b[0m\u001b[0;34m)\u001b[0m\u001b[0;34m\u001b[0m\u001b[0;34m\u001b[0m\u001b[0m\n",
      "\u001b[0;32m~/.conda/py_3.6/xe_scapper/lib/python3.6/site-packages/mysql/connector/cursor_cext.py\u001b[0m in \u001b[0;36mexecute\u001b[0;34m(self, operation, params, multi)\u001b[0m\n\u001b[1;32m    246\u001b[0m \u001b[0;34m\u001b[0m\u001b[0m\n\u001b[1;32m    247\u001b[0m         \u001b[0;32mif\u001b[0m \u001b[0mparams\u001b[0m\u001b[0;34m:\u001b[0m\u001b[0;34m\u001b[0m\u001b[0;34m\u001b[0m\u001b[0m\n\u001b[0;32m--> 248\u001b[0;31m             \u001b[0mprepared\u001b[0m \u001b[0;34m=\u001b[0m \u001b[0mself\u001b[0m\u001b[0;34m.\u001b[0m\u001b[0m_cnx\u001b[0m\u001b[0;34m.\u001b[0m\u001b[0mprepare_for_mysql\u001b[0m\u001b[0;34m(\u001b[0m\u001b[0mparams\u001b[0m\u001b[0;34m)\u001b[0m\u001b[0;34m\u001b[0m\u001b[0;34m\u001b[0m\u001b[0m\n\u001b[0m\u001b[1;32m    249\u001b[0m             \u001b[0;32mif\u001b[0m \u001b[0misinstance\u001b[0m\u001b[0;34m(\u001b[0m\u001b[0mprepared\u001b[0m\u001b[0;34m,\u001b[0m \u001b[0mdict\u001b[0m\u001b[0;34m)\u001b[0m\u001b[0;34m:\u001b[0m\u001b[0;34m\u001b[0m\u001b[0;34m\u001b[0m\u001b[0m\n\u001b[1;32m    250\u001b[0m                 \u001b[0;32mfor\u001b[0m \u001b[0mkey\u001b[0m\u001b[0;34m,\u001b[0m \u001b[0mvalue\u001b[0m \u001b[0;32min\u001b[0m \u001b[0mprepared\u001b[0m\u001b[0;34m.\u001b[0m\u001b[0mitems\u001b[0m\u001b[0;34m(\u001b[0m\u001b[0;34m)\u001b[0m\u001b[0;34m:\u001b[0m\u001b[0;34m\u001b[0m\u001b[0;34m\u001b[0m\u001b[0m\n",
      "\u001b[0;32m~/.conda/py_3.6/xe_scapper/lib/python3.6/site-packages/mysql/connector/connection_cext.py\u001b[0m in \u001b[0;36mprepare_for_mysql\u001b[0;34m(self, params)\u001b[0m\n\u001b[1;32m    613\u001b[0m                 \u001b[0mresult\u001b[0m\u001b[0;34m[\u001b[0m\u001b[0mkey\u001b[0m\u001b[0;34m]\u001b[0m \u001b[0;34m=\u001b[0m \u001b[0mself\u001b[0m\u001b[0;34m.\u001b[0m\u001b[0m_cmysql\u001b[0m\u001b[0;34m.\u001b[0m\u001b[0mconvert_to_mysql\u001b[0m\u001b[0;34m(\u001b[0m\u001b[0mvalue\u001b[0m\u001b[0;34m)\u001b[0m\u001b[0;34m[\u001b[0m\u001b[0;36m0\u001b[0m\u001b[0;34m]\u001b[0m\u001b[0;34m\u001b[0m\u001b[0;34m\u001b[0m\u001b[0m\n\u001b[1;32m    614\u001b[0m         \u001b[0;32melse\u001b[0m\u001b[0;34m:\u001b[0m\u001b[0;34m\u001b[0m\u001b[0;34m\u001b[0m\u001b[0m\n\u001b[0;32m--> 615\u001b[0;31m             \u001b[0;32mraise\u001b[0m \u001b[0mValueError\u001b[0m\u001b[0;34m(\u001b[0m\u001b[0;34m\"Could not process parameters\"\u001b[0m\u001b[0;34m)\u001b[0m\u001b[0;34m\u001b[0m\u001b[0;34m\u001b[0m\u001b[0m\n\u001b[0m\u001b[1;32m    616\u001b[0m \u001b[0;34m\u001b[0m\u001b[0m\n\u001b[1;32m    617\u001b[0m         \u001b[0;32mreturn\u001b[0m \u001b[0mresult\u001b[0m\u001b[0;34m\u001b[0m\u001b[0;34m\u001b[0m\u001b[0m\n",
      "\u001b[0;31mValueError\u001b[0m: Could not process parameters"
     ]
    }
   ],
   "source": [
    "db_house_exists(h.property_id)"
   ]
  },
  {
   "cell_type": "code",
   "execution_count": null,
   "id": "b5f314f7",
   "metadata": {},
   "outputs": [],
   "source": []
  }
 ],
 "metadata": {
  "kernelspec": {
   "display_name": "Python 3",
   "language": "python",
   "name": "python3"
  },
  "language_info": {
   "codemirror_mode": {
    "name": "ipython",
    "version": 3
   },
   "file_extension": ".py",
   "mimetype": "text/x-python",
   "name": "python",
   "nbconvert_exporter": "python",
   "pygments_lexer": "ipython3",
   "version": "3.6.13"
  }
 },
 "nbformat": 4,
 "nbformat_minor": 5
}
