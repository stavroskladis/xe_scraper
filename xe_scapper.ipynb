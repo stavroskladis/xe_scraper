{
 "cells": [
  {
   "cell_type": "code",
   "execution_count": 178,
   "id": "c9235d65",
   "metadata": {},
   "outputs": [],
   "source": [
    "import re\n",
    "import smtplib\n",
    "from datetime import datetime\n",
    "import requests\n",
    "from bs4 import BeautifulSoup as bs\n",
    "import os\n",
    "import re"
   ]
  },
  {
   "cell_type": "code",
   "execution_count": 179,
   "id": "9e4db74a",
   "metadata": {},
   "outputs": [],
   "source": [
    "# Get unique values\n",
    "def unique(xlist):\n",
    "    unique_list = []\n",
    "    \n",
    "    for x in xlist:\n",
    "        if x not in unique_list:\n",
    "            unique_list.append(x)\n",
    "    \n",
    "    return unique_list"
   ]
  },
  {
   "cell_type": "code",
   "execution_count": 180,
   "id": "abc72286",
   "metadata": {},
   "outputs": [],
   "source": [
    "def search(list, keyword):\n",
    "    for i in range(len(list)):\n",
    "        if list[i] == keyword:\n",
    "            return True\n",
    "    return False"
   ]
  },
  {
   "cell_type": "code",
   "execution_count": 181,
   "id": "ee09b675",
   "metadata": {},
   "outputs": [],
   "source": [
    "query_url = \"https://www.xe.gr/property/results?transaction_name=rent&item_type=re_residence&maximum_price=960&minimum_size=57&geo_lat_from=38.0999672763109&geo_lng_from=24.061083822481493&geo_lat_to=37.792875685371634&geo_lng_to=23.530055641375128&sorting=update_desc\"\n",
    "crafted_urls = []\n",
    "uniq_urls = []\n",
    "start_page = 0  # Should be 1 at minimum\n",
    "max_page_num = 3  # upper limit for the web page number to scrapp\n",
    "links = []\n",
    "\n",
    "for i in range(start_page, max_page_num):\n",
    "    crafted_urls.append( query_url + \"&page=\" + str(i+1) )\n",
    "    soup = bs(requests.get(crafted_urls[i]).content, 'lxml')\n",
    "    \n",
    "    for a_tag in soup.select('a[href*=\"enoikiaseis-katoikion\"]'):\n",
    "        links.append(a_tag['href'])\n",
    "        \n",
    "    links = links[:-15]\n"
   ]
  },
  {
   "cell_type": "code",
   "execution_count": 182,
   "id": "626cf616",
   "metadata": {},
   "outputs": [
    {
     "data": {
      "text/plain": [
       "204"
      ]
     },
     "execution_count": 182,
     "metadata": {},
     "output_type": "execute_result"
    }
   ],
   "source": [
    "len(links)"
   ]
  },
  {
   "cell_type": "code",
   "execution_count": 183,
   "id": "4f5828e8",
   "metadata": {},
   "outputs": [],
   "source": [
    "uniq_urls = unique(links)"
   ]
  },
  {
   "cell_type": "code",
   "execution_count": 184,
   "id": "435e3248",
   "metadata": {},
   "outputs": [
    {
     "data": {
      "text/plain": [
       "102"
      ]
     },
     "execution_count": 184,
     "metadata": {},
     "output_type": "execute_result"
    }
   ],
   "source": [
    "len(uniq_urls)"
   ]
  },
  {
   "cell_type": "code",
   "execution_count": 185,
   "id": "a8a097c0",
   "metadata": {},
   "outputs": [],
   "source": [
    "blacklist_areas = [\n",
    "    \"nosokomeio-paidwn\", \n",
    "    \"athhna-plateia-amerikhs\",\n",
    "    \"vyrwnas\",\n",
    "    \"zwgrafoy-kentro\",\n",
    "    \"nosokomeio-paidwn\",\n",
    "    \"athhna-koyntoyriwtika\",\n",
    "    \"athhna-kynosargoys\",\n",
    "    \"galatsi\",\n",
    "    \"porto-rafth\",\n",
    "    \"pagkrati\",\n",
    "    \"ippokratoys\",\n",
    "    \"ilion\",\n",
    "    \"liosia\",\n",
    "    \"keratsini\"\n",
    "    ]"
   ]
  },
  {
   "cell_type": "code",
   "execution_count": 186,
   "id": "2ca1270e",
   "metadata": {},
   "outputs": [
    {
     "data": {
      "text/plain": [
       "['nosokomeio-paidwn',\n",
       " 'athhna-plateia-amerikhs',\n",
       " 'vyrwnas',\n",
       " 'zwgrafoy-kentro',\n",
       " 'athhna-koyntoyriwtika',\n",
       " 'athhna-kynosargoys',\n",
       " 'galatsi',\n",
       " 'porto-rafth',\n",
       " 'pagkrati',\n",
       " 'ippokratoys',\n",
       " 'ilion',\n",
       " 'liosia',\n",
       " 'keratsini']"
      ]
     },
     "execution_count": 186,
     "metadata": {},
     "output_type": "execute_result"
    }
   ],
   "source": [
    "blacklist_areas = unique(blacklist_areas)\n",
    "blacklist_areas"
   ]
  },
  {
   "cell_type": "code",
   "execution_count": 187,
   "id": "3d4cad05",
   "metadata": {},
   "outputs": [],
   "source": [
    "def filter_blacklisted_areas(urls, blacklist_areas):\n",
    "    # Filters based on blacklisted areas\n",
    "        \n",
    "    for url in urls:\n",
    "        for area in blacklist_areas:\n",
    "            if area in url:\n",
    "                urls.remove(url)\n",
    "                break # if blacklisted break the loop\n",
    "    return urls"
   ]
  },
  {
   "cell_type": "code",
   "execution_count": 188,
   "id": "f63467ea",
   "metadata": {},
   "outputs": [],
   "source": [
    "cleaned_urls= filter_blacklisted_areas(uniq_urls, blacklist_areas)"
   ]
  },
  {
   "cell_type": "code",
   "execution_count": 189,
   "id": "e8b135d6",
   "metadata": {},
   "outputs": [
    {
     "name": "stdout",
     "output_type": "stream",
     "text": [
      "95\n"
     ]
    }
   ],
   "source": [
    "print(len(cleaned_urls))"
   ]
  },
  {
   "cell_type": "code",
   "execution_count": 355,
   "id": "d1e38532",
   "metadata": {},
   "outputs": [],
   "source": [
    "class Home:\n",
    "    def __init__(self, property_url):\n",
    "        self.property_url = property_url\n",
    "        self.property_id = -1\n",
    "        self.bedroom = -1\n",
    "        self.bathroom = -1\n",
    "        self.floor = -1\n",
    "        self.house_reconstruction = \"NA\"\n",
    "        self.building_space = \"NA\"\n",
    "        self.compass = \"NA\"\n",
    "        self.title = \"NA\"\n",
    "        self.price = -1\n",
    "        self.door = False\n",
    "        self.canopy = False\n",
    "        self.heating = \"NA\"\n",
    "        self.is_estate = False\n",
    "        self.description = \"NA\"\n",
    "        self.has_oil = False\n",
    "        self.rejected = True\n",
    "        \n",
    "    def set_property_id(self):\n",
    "        self.property_id = self.property_url.split('/')[6]\n",
    "        \n",
    "    def house_print_info(self):\n",
    "        print(f'Ηλεκτρονική Διεύθυνση: {self.property_url}')\n",
    "        print(f'Αναγνωριστικό: {self.property_id}')\n",
    "        print(f'Υπνοδωμάτια: {self.bedroom}')\n",
    "        print(f'Μπάνια: {self.bathroom}')\n",
    "        print(f'Όροφος: {self.floor}')\n",
    "        print(f'Έτος ανακαίνισης: {self.house_reconstruction}')\n",
    "        print(f'Κατάσταση: {self.building_space}')\n",
    "        print(f'Προσανατολισμός: {self.compass}')\n",
    "        print(f'Τίτλος: {self.title}')\n",
    "        print(f'Τιμή: {self.price}')\n",
    "        print(f'Πόρτα ασφαλείας: {self.door}')\n",
    "        print(f'Τέντες: {self.canopy}')\n",
    "        print(f'Θέρμανση: {self.heating}')\n",
    "        print(f'Μεσίτης: {self.is_estate}')\n",
    "        print(f'Περιγραφή: {self.description}')\n",
    "        print(f'Πετρέλαιο: {self.has_oil}')\n",
    "\n",
    "\n",
    "    def set_house_info(self, soup_html, soup_lxml):\n",
    "        \n",
    "        if search(self.text, \"Υπνοδωμάτια:\"):\n",
    "            self.bedroom = int( self.text[self.text.index(\"Υπνοδωμάτια:\") + 2].text )\n",
    "\n",
    "        if search(self.text, \"Μπάνια:\"):\n",
    "            self.bathroom = int( self.text[self.text.index(\"Μπάνια:\") + 2].text )\n",
    "\n",
    "        floor_data = self.text[self.text.index(\"Όροφος:\") + 2].text\n",
    "        if type(floor_data) == list and len(floor_data) > 1:\n",
    "            floor_data = floor_data[0]\n",
    "        if ((floor_data == 'Ισόγειο') or (floor_data == 'Υπερυψωμένο, Ισόγειο')):\n",
    "            self.floor = 0\n",
    "        elif floor_data == 'Ημιώροφος':\n",
    "            self.floor = 1/2\n",
    "        else:\n",
    "            digits = re.findall(r'\\d+', floor_data)\n",
    "            if type(digits) == list and len(digits) > 0:\n",
    "                digits = digits[0]\n",
    "            self.floor = int(str(digits))\n",
    "\n",
    "        if search(self.text, \"Έτος ανακαίνισης:\"):\n",
    "            self.house_reconstruction = int(self.text[self.text.index(\"Έτος ανακαίνισης:\") + 2].text)\n",
    "\n",
    "        if search(self.text, \"Κατάσταση:\"):\n",
    "            self.building_space = self.text[self.text.index(\"Κατάσταση:\") + 2].text\n",
    "\n",
    "        if search(self.text, \"Προσανατολισμός:\"):\n",
    "            self.compass = self.text[self.text.index(\"Προσανατολισμός:\") + 2].text\n",
    "\n",
    "        self.title = soup_lxml.title.string\n",
    "        self.price = int (re.findall(r'\\d+', soup_lxml.find(class_='price').h2.text)[0])\n",
    "        self.door = search(self.text, \"Πόρτα ασφαλείας\")\n",
    "        self.canopy = search(self.text, \"Τέντες\")\n",
    "\n",
    "        if search(self.text, \"Θέρμανση:\"):\n",
    "            self.heating = self.text[self.text.index(\"Θέρμανση:\") + 2].text\n",
    "\n",
    "        if self.title.find('Estate') != -1:\n",
    "            self.is_estate = True\n",
    "        elif self.title.find('Brokers') != -1:\n",
    "            self.is_estate = True\n",
    "        elif self.title.find('Ιδιώτης') != -1:\n",
    "            self.is_estate = False\n",
    "        elif self.title.find('Property') != -1:\n",
    "            self.is_estate = True\n",
    "        elif self.title.find('Group') != -1:\n",
    "             self.is_estate = True\n",
    "        elif (len(soup_html.find_all(\"h2\", {\"class\": \"title\"})) != 0):\n",
    "            title = soup_html.find_all(\"h2\", {\"class\": \"title\"})[0].text\n",
    "            print(f'title: {title} len: {len(title)}\\n')\n",
    "            \n",
    "            if (title == 'broker'):\n",
    "                self.is_estate = True\n",
    "\n",
    "        self.description = soup_lxml.p.string\n",
    "\n",
    "        if self.description:\n",
    "            if ((self.description.find('πετρέλαιο') != -1) or (self.description.find('πετρελαίου') != -1)):\n",
    "                self.has_oil = True\n",
    "\n",
    "    def set_text(self, soup_html):\n",
    "        parent = soup_html.find(\"body\").find(\"ul\")  # finding parent <ul> tag\n",
    "        self.text = list(parent.descendants)  # finding all <li> tags\n",
    "        \n",
    "    def validate(self):\n",
    "        if not self.has_oil and not self.is_estate:\n",
    "            self.rejected = False"
   ]
  },
  {
   "cell_type": "code",
   "execution_count": 356,
   "id": "0331d996",
   "metadata": {},
   "outputs": [],
   "source": [
    "def make_homes(urls):\n",
    "    Homes = []\n",
    "\n",
    "    for i in range(0, len(urls)):\n",
    "        Homes.append(Home(urls[i]))\n",
    "        Homes[i].set_property_id()\n",
    "    \n",
    "    return Homes"
   ]
  },
  {
   "cell_type": "code",
   "execution_count": 357,
   "id": "c0ac037d",
   "metadata": {},
   "outputs": [
    {
     "data": {
      "text/plain": [
       "95"
      ]
     },
     "execution_count": 357,
     "metadata": {},
     "output_type": "execute_result"
    }
   ],
   "source": [
    "Homes = make_homes(cleaned_urls)\n",
    "len(Homes)"
   ]
  },
  {
   "cell_type": "code",
   "execution_count": 358,
   "id": "a808085b",
   "metadata": {},
   "outputs": [
    {
     "name": "stdout",
     "output_type": "stream",
     "text": [
      "785766383\n",
      "https://www.xe.gr/property/d/enoikiaseis-katoikion/785766383/petroypolh-khpoypolh-600-95?first_in_widget_ad_id=785765828&rank_in_widget=4&widget_name=search+results+list\n"
     ]
    }
   ],
   "source": [
    "print(Homes[3].property_id)\n",
    "print(Homes[3].property_url)"
   ]
  },
  {
   "cell_type": "code",
   "execution_count": 359,
   "id": "a8ba2d25",
   "metadata": {},
   "outputs": [],
   "source": [
    "def get_soup_objects(url):\n",
    "    \n",
    "    # creating requests object\n",
    "    html = requests.get(url).content\n",
    "        \n",
    "    # creating soup objects\n",
    "    soup_html = bs(html, 'html.parser')\n",
    "    soup_lxml = bs(html, 'lxml')\n",
    "    \n",
    "    return [soup_html, soup_lxml]"
   ]
  },
  {
   "cell_type": "code",
   "execution_count": 362,
   "id": "ff9ae44f",
   "metadata": {},
   "outputs": [],
   "source": [
    "def parse_and_filter_homes():\n",
    "    selected_houses = []\n",
    "    selected = False\n",
    "    \n",
    "    for h in Homes:\n",
    "        print(f'\\nProcessing house with id: {h.property_id} and url: {h.property_url}')\n",
    "        \n",
    "        [soup_html, soup_lxml] = get_soup_objects(h.property_url)\n",
    "        \n",
    "        # find tags and set text\n",
    "        h.set_text(soup_html) \n",
    "        \n",
    "        h.set_house_info(soup_html, soup_lxml)\n",
    "        \n",
    "        h.validate()\n",
    "        \n",
    "        \n",
    "        if not h.rejected:\n",
    "            h.house_print_info()\n",
    "            selected_houses.append(h)\n",
    "            print(f'This house matches out criteria!')\n",
    "            print(f'Addind it to our database...')\n",
    "            print(f'Informing you via email...')\n",
    "        \n",
    "    \n",
    "    return selected_houses"
   ]
  },
  {
   "cell_type": "code",
   "execution_count": 363,
   "id": "14e01a26",
   "metadata": {
    "scrolled": false
   },
   "outputs": [
    {
     "name": "stdout",
     "output_type": "stream",
     "text": [
      "\n",
      "Processing house with id: 785765828 and url: https://www.xe.gr/property/d/enoikiaseis-katoikion/785765828/athhna-lamprinh-400-60?first_in_widget_ad_id=785765828&rank_in_widget=1&widget_name=search+results+list\n"
     ]
    },
    {
     "ename": "AttributeError",
     "evalue": "'NoneType' object has no attribute 'descendants'",
     "output_type": "error",
     "traceback": [
      "\u001b[0;31m---------------------------------------------------------------------------\u001b[0m",
      "\u001b[0;31mAttributeError\u001b[0m                            Traceback (most recent call last)",
      "Input \u001b[0;32mIn [363]\u001b[0m, in \u001b[0;36m<cell line: 1>\u001b[0;34m()\u001b[0m\n\u001b[0;32m----> 1\u001b[0m selected_houses \u001b[38;5;241m=\u001b[39m \u001b[43mparse_and_filter_homes\u001b[49m\u001b[43m(\u001b[49m\u001b[43m)\u001b[49m\n",
      "Input \u001b[0;32mIn [362]\u001b[0m, in \u001b[0;36mparse_and_filter_homes\u001b[0;34m()\u001b[0m\n\u001b[1;32m      8\u001b[0m [soup_html, soup_lxml] \u001b[38;5;241m=\u001b[39m get_soup_objects(h\u001b[38;5;241m.\u001b[39mproperty_url)\n\u001b[1;32m     10\u001b[0m \u001b[38;5;66;03m# find tags and set text\u001b[39;00m\n\u001b[0;32m---> 11\u001b[0m \u001b[43mh\u001b[49m\u001b[38;5;241;43m.\u001b[39;49m\u001b[43mset_text\u001b[49m\u001b[43m(\u001b[49m\u001b[43msoup_html\u001b[49m\u001b[43m)\u001b[49m \n\u001b[1;32m     13\u001b[0m h\u001b[38;5;241m.\u001b[39mset_house_info(soup_html, soup_lxml)\n\u001b[1;32m     15\u001b[0m h\u001b[38;5;241m.\u001b[39mvalidate()\n",
      "Input \u001b[0;32mIn [355]\u001b[0m, in \u001b[0;36mHome.set_text\u001b[0;34m(self, soup_html)\u001b[0m\n\u001b[1;32m    104\u001b[0m \u001b[38;5;28;01mdef\u001b[39;00m \u001b[38;5;21mset_text\u001b[39m(\u001b[38;5;28mself\u001b[39m, soup_html):\n\u001b[1;32m    105\u001b[0m     parent \u001b[38;5;241m=\u001b[39m soup_html\u001b[38;5;241m.\u001b[39mfind(\u001b[38;5;124m\"\u001b[39m\u001b[38;5;124mbody\u001b[39m\u001b[38;5;124m\"\u001b[39m)\u001b[38;5;241m.\u001b[39mfind(\u001b[38;5;124m\"\u001b[39m\u001b[38;5;124mul\u001b[39m\u001b[38;5;124m\"\u001b[39m)  \u001b[38;5;66;03m# finding parent <ul> tag\u001b[39;00m\n\u001b[0;32m--> 106\u001b[0m     \u001b[38;5;28mself\u001b[39m\u001b[38;5;241m.\u001b[39mtext \u001b[38;5;241m=\u001b[39m \u001b[38;5;28mlist\u001b[39m(\u001b[43mparent\u001b[49m\u001b[38;5;241;43m.\u001b[39;49m\u001b[43mdescendants\u001b[49m)\n",
      "\u001b[0;31mAttributeError\u001b[0m: 'NoneType' object has no attribute 'descendants'"
     ]
    }
   ],
   "source": [
    "selected_houses = parse_and_filter_homes()"
   ]
  },
  {
   "cell_type": "code",
   "execution_count": null,
   "id": "6490a7fb",
   "metadata": {},
   "outputs": [],
   "source": []
  },
  {
   "cell_type": "code",
   "execution_count": 306,
   "id": "7746daea",
   "metadata": {},
   "outputs": [],
   "source": [
    "url='https://www.xe.gr/property/d/enoikiaseis-katoikion/785796801/petroypolh-kentro-600-65?first_in_widget_ad_id=785765828&rank_in_widget=15&widget_name=search+results+list'\n",
    "html = requests.get(url).content\n",
    "soup_html = bs(html, 'html.parser')\n",
    "soup_lxml = bs(html, 'lxml')\n",
    "parent = soup_html.find(\"body\").find(\"ul\")\n",
    "text = list(parent.descendants)\n"
   ]
  },
  {
   "cell_type": "code",
   "execution_count": 307,
   "id": "63291236",
   "metadata": {},
   "outputs": [
    {
     "data": {
      "text/plain": [
       "2"
      ]
     },
     "execution_count": 307,
     "metadata": {},
     "output_type": "execute_result"
    }
   ],
   "source": [
    "bedroom = int( text[text.index(\"Υπνοδωμάτια:\") + 2].text )\n",
    "bedroom"
   ]
  },
  {
   "cell_type": "code",
   "execution_count": 308,
   "id": "03c810c5",
   "metadata": {},
   "outputs": [
    {
     "data": {
      "text/plain": [
       "1"
      ]
     },
     "execution_count": 308,
     "metadata": {},
     "output_type": "execute_result"
    }
   ],
   "source": [
    "bathroom=\"NA\"\n",
    "if search(text, \"Μπάνια:\"):\n",
    "    bathroom = int( text[text.index(\"Μπάνια:\") + 2].text )\n",
    "bathroom"
   ]
  },
  {
   "cell_type": "code",
   "execution_count": 309,
   "id": "52f060af",
   "metadata": {},
   "outputs": [
    {
     "data": {
      "text/plain": [
       "<span>1ος</span>"
      ]
     },
     "execution_count": 309,
     "metadata": {},
     "output_type": "execute_result"
    }
   ],
   "source": [
    "text[text.index(\"Όροφος:\") + 2]"
   ]
  },
  {
   "cell_type": "code",
   "execution_count": 310,
   "id": "df8633ff",
   "metadata": {},
   "outputs": [
    {
     "data": {
      "text/plain": [
       "'1ος'"
      ]
     },
     "execution_count": 310,
     "metadata": {},
     "output_type": "execute_result"
    }
   ],
   "source": [
    "text[text.index(\"Όροφος:\") + 2].text"
   ]
  },
  {
   "cell_type": "code",
   "execution_count": 311,
   "id": "cd9beb60",
   "metadata": {},
   "outputs": [
    {
     "data": {
      "text/plain": [
       "list"
      ]
     },
     "execution_count": 311,
     "metadata": {},
     "output_type": "execute_result"
    }
   ],
   "source": [
    "l = ['Υπερυψωμένο, Ισόγειο', '']\n",
    "type(l)"
   ]
  },
  {
   "cell_type": "code",
   "execution_count": 312,
   "id": "2369bccb",
   "metadata": {},
   "outputs": [
    {
     "name": "stdout",
     "output_type": "stream",
     "text": [
      "<class 'str'>\n",
      "1ος\n"
     ]
    },
    {
     "data": {
      "text/plain": [
       "['1']"
      ]
     },
     "execution_count": 312,
     "metadata": {},
     "output_type": "execute_result"
    }
   ],
   "source": [
    "floor_data = text[text.index(\"Όροφος:\") + 2].text\n",
    "print(type(floor_data))\n",
    "print(floor_data)\n",
    "\n",
    "if type(floor_data) == list and len(floor_data) > 1:\n",
    "    floor_data = floor_data[0]\n",
    "re.findall(r'\\d+', floor_data)"
   ]
  },
  {
   "cell_type": "code",
   "execution_count": 313,
   "id": "2991d7bf",
   "metadata": {},
   "outputs": [
    {
     "ename": "NameError",
     "evalue": "name 'floor' is not defined",
     "output_type": "error",
     "traceback": [
      "\u001b[0;31m---------------------------------------------------------------------------\u001b[0m",
      "\u001b[0;31mNameError\u001b[0m                                 Traceback (most recent call last)",
      "Input \u001b[0;32mIn [313]\u001b[0m, in \u001b[0;36m<cell line: 14>\u001b[0;34m()\u001b[0m\n\u001b[1;32m     12\u001b[0m         digits \u001b[38;5;241m=\u001b[39m digits[\u001b[38;5;241m0\u001b[39m]\n\u001b[1;32m     13\u001b[0m         floor \u001b[38;5;241m=\u001b[39m \u001b[38;5;28mint\u001b[39m(\u001b[38;5;28mstr\u001b[39m(digits))\n\u001b[0;32m---> 14\u001b[0m \u001b[43mfloor\u001b[49m\n",
      "\u001b[0;31mNameError\u001b[0m: name 'floor' is not defined"
     ]
    }
   ],
   "source": [
    "floor_data = text[text.index(\"Όροφος:\") + 2].text\n",
    "if type(floor_data) == list and len(floor_data) > 1:\n",
    "    floor_data = floor_data[0]\n",
    "    \n",
    "if ((floor_data == 'Ισόγειο') or (floor_data == 'Υπερυψωμένο, Ισόγειο')):\n",
    "    floor = 0\n",
    "elif floor_data == 'Ημιώροφος':\n",
    "    floor = 1/2\n",
    "else:\n",
    "    digits = re.findall(r'\\d+', floor_data)\n",
    "    if type(digits) == list and len(digits) > 1:\n",
    "        digits = digits[0]\n",
    "        floor = int(str(digits))\n",
    "floor"
   ]
  },
  {
   "cell_type": "code",
   "execution_count": 314,
   "id": "29b6aa56",
   "metadata": {},
   "outputs": [
    {
     "data": {
      "text/plain": [
       "2022"
      ]
     },
     "execution_count": 314,
     "metadata": {},
     "output_type": "execute_result"
    }
   ],
   "source": [
    "house_reconstruction=\"NA\"\n",
    "if search(text, \"Έτος ανακαίνισης:\"):\n",
    "    house_reconstruction = int(text[text.index(\"Έτος ανακαίνισης:\") + 2].text)\n",
    "house_reconstruction"
   ]
  },
  {
   "cell_type": "code",
   "execution_count": 315,
   "id": "9093b783",
   "metadata": {},
   "outputs": [
    {
     "data": {
      "text/plain": [
       "'Ανακαινισμένο'"
      ]
     },
     "execution_count": 315,
     "metadata": {},
     "output_type": "execute_result"
    }
   ],
   "source": [
    "building_space=\"NA\"\n",
    "if search(text, \"Κατάσταση:\"):\n",
    "    building_space = text[text.index(\"Κατάσταση:\") + 2].text\n",
    "building_space"
   ]
  },
  {
   "cell_type": "code",
   "execution_count": 316,
   "id": "15665ce7",
   "metadata": {},
   "outputs": [
    {
     "data": {
      "text/plain": [
       "'NA'"
      ]
     },
     "execution_count": 316,
     "metadata": {},
     "output_type": "execute_result"
    }
   ],
   "source": [
    "compass=\"NA\"\n",
    "if search(text, \"Προσανατολισμός:\"):\n",
    "    compass = text[text.index(\"Προσανατολισμός:\") + 2].text\n",
    "compass"
   ]
  },
  {
   "cell_type": "code",
   "execution_count": 317,
   "id": "aced9d5a",
   "metadata": {},
   "outputs": [
    {
     "data": {
      "text/plain": [
       "True"
      ]
     },
     "execution_count": 317,
     "metadata": {},
     "output_type": "execute_result"
    }
   ],
   "source": [
    "door = search(text, \"Πόρτα ασφαλείας\")\n",
    "door"
   ]
  },
  {
   "cell_type": "code",
   "execution_count": 318,
   "id": "8705d889",
   "metadata": {},
   "outputs": [
    {
     "data": {
      "text/plain": [
       "True"
      ]
     },
     "execution_count": 318,
     "metadata": {},
     "output_type": "execute_result"
    }
   ],
   "source": [
    "canopy = search(text, \"Τέντες\")\n",
    "canopy"
   ]
  },
  {
   "cell_type": "code",
   "execution_count": 319,
   "id": "10c3390a",
   "metadata": {},
   "outputs": [
    {
     "data": {
      "text/plain": [
       "'Αυτόνομη θέρμανση με ατομική εγκατάσταση'"
      ]
     },
     "execution_count": 319,
     "metadata": {},
     "output_type": "execute_result"
    }
   ],
   "source": [
    "heating=\"NA\"\n",
    "if search(text, \"Θέρμανση:\"):\n",
    "    heating = text[text.index(\"Θέρμανση:\") + 2].text\n",
    "heating"
   ]
  },
  {
   "cell_type": "code",
   "execution_count": 320,
   "id": "b70af7b1",
   "metadata": {},
   "outputs": [
    {
     "data": {
      "text/plain": [
       "'\\n  Διαμέρισμα προς ενοικίαση 65 τ.μ. Πετρούπολη (Κέντρο) (Ιδιώτης) | xe.gr\\n'"
      ]
     },
     "execution_count": 320,
     "metadata": {},
     "output_type": "execute_result"
    }
   ],
   "source": [
    "title = soup_lxml.title.string\n",
    "title"
   ]
  },
  {
   "cell_type": "code",
   "execution_count": 321,
   "id": "3de4553a",
   "metadata": {},
   "outputs": [
    {
     "name": "stdout",
     "output_type": "stream",
     "text": [
      "False\n"
     ]
    }
   ],
   "source": [
    "is_estate = False\n",
    "if title.find('Estate') != -1:\n",
    "    is_estate = True\n",
    "print(is_estate)"
   ]
  },
  {
   "cell_type": "code",
   "execution_count": 322,
   "id": "63572afc",
   "metadata": {},
   "outputs": [
    {
     "data": {
      "text/plain": [
       "False"
      ]
     },
     "execution_count": 322,
     "metadata": {},
     "output_type": "execute_result"
    }
   ],
   "source": [
    "is_private = False\n",
    "if (len(soup_html.find_all(\"h2\", {\"class\": \"title\"})) != 0):\n",
    "    if (soup_html.find_all(\"h2\", {\"class\": \"title\"})[0].text == 'Αγγελία ιδιώτη'):\n",
    "        is_private = True\n",
    "is_private"
   ]
  },
  {
   "cell_type": "code",
   "execution_count": 164,
   "id": "4de0f7af",
   "metadata": {},
   "outputs": [
    {
     "name": "stdout",
     "output_type": "stream",
     "text": [
      "Μεσίτης\n"
     ]
    }
   ],
   "source": [
    "# written like this in order to face a known bug\n",
    "if (is_private):\n",
    "    print('Ιδιώτης')\n",
    "elif (is_estate):\n",
    "    print('Μεσίτης')\n",
    "else:\n",
    "    print('Ιδιώτης')"
   ]
  },
  {
   "cell_type": "code",
   "execution_count": 165,
   "id": "f78d80b1",
   "metadata": {},
   "outputs": [
    {
     "data": {
      "text/plain": [
       "'\\n                    1 κουζίνα/ες, κουφώματα: Αλουμινίου, Ασανσέρ, Ηλ. Συσκευές, Διπλά Τζάμια, Metro, Φωτεινό, Επι Λεωφόρου, Ανακαινισμένο, Ενοικιάζετε πλήρως επιπλωμένο, κοντά σε: Μεταξουργείο. Plasis Σύνταγμα, Τηλ. Επικοινωνίας: +30 2103224225, email: athens@plasis.com.gr, website: www.plasis.com.gr\\n                  '"
      ]
     },
     "execution_count": 165,
     "metadata": {},
     "output_type": "execute_result"
    }
   ],
   "source": [
    "description = soup_lxml.p.string\n",
    "description"
   ]
  },
  {
   "cell_type": "code",
   "execution_count": 166,
   "id": "9456cd93",
   "metadata": {},
   "outputs": [
    {
     "data": {
      "text/plain": [
       "650"
      ]
     },
     "execution_count": 166,
     "metadata": {},
     "output_type": "execute_result"
    }
   ],
   "source": [
    "price = int (re.findall(r'\\d+', soup_lxml.find(class_='price').h2.text)[0])\n",
    "price"
   ]
  },
  {
   "cell_type": "code",
   "execution_count": 167,
   "id": "e58cbfaf",
   "metadata": {},
   "outputs": [
    {
     "data": {
      "text/plain": [
       "False"
      ]
     },
     "execution_count": 167,
     "metadata": {},
     "output_type": "execute_result"
    }
   ],
   "source": [
    "has_oil = False\n",
    "if ((description.find('πετρέλαιο') != -1) or (description.find('πετρελαίου') != -1)):\n",
    "    has_oil = True\n",
    "has_oil"
   ]
  },
  {
   "cell_type": "code",
   "execution_count": null,
   "id": "4ddb71ee",
   "metadata": {},
   "outputs": [],
   "source": []
  },
  {
   "cell_type": "code",
   "execution_count": null,
   "id": "9ecbda98",
   "metadata": {},
   "outputs": [],
   "source": []
  }
 ],
 "metadata": {
  "kernelspec": {
   "display_name": "Python 3 (ipykernel)",
   "language": "python",
   "name": "python3"
  },
  "language_info": {
   "codemirror_mode": {
    "name": "ipython",
    "version": 3
   },
   "file_extension": ".py",
   "mimetype": "text/x-python",
   "name": "python",
   "nbconvert_exporter": "python",
   "pygments_lexer": "ipython3",
   "version": "3.9.12"
  }
 },
 "nbformat": 4,
 "nbformat_minor": 5
}
